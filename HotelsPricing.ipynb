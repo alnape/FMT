{
 "cells": [
  {
   "cell_type": "code",
   "execution_count": 1,
   "metadata": {},
   "outputs": [],
   "source": [
    "import sys #only needed to determine Python version number\n",
    "import matplotlib as mpl\n",
    "import warnings\n",
    "\n",
    "import pandas as pd\n",
    "import numpy as np\n",
    "import seaborn as sns\n",
    "import matplotlib.pyplot as plt\n",
    "import os\n",
    "from scipy import stats\n",
    "\n",
    "import statsmodels.api as sm\n",
    "\n",
    "#import re    # regular expressions"
   ]
  },
  {
   "cell_type": "code",
   "execution_count": 2,
   "metadata": {},
   "outputs": [
    {
     "name": "stdout",
     "output_type": "stream",
     "text": [
      "Environment \n",
      "----------------------------------------------------------------------------------------------\n",
      "Python: version 3.6.8 |Anaconda, Inc.| (default, Feb 21 2019, 18:30:04) [MSC v.1916 64 bit (AMD64)]\n",
      "Pandas: version 0.25.0\n",
      "Matplotlib: version 3.0.2\n"
     ]
    }
   ],
   "source": [
    "print('Environment \\n----------------------------------------------------------------------------------------------')\n",
    "print('Python: version ' + sys.version)\n",
    "print('Pandas: version ' + pd.__version__)\n",
    "print('Matplotlib: version ' + mpl.__version__)"
   ]
  },
  {
   "cell_type": "code",
   "execution_count": 3,
   "metadata": {},
   "outputs": [],
   "source": [
    "# Environment\n",
    "warnings.filterwarnings(\"ignore\")\n",
    "\n",
    "# Pandas configuration\n",
    "#pd.set_option('display.max_row', 20)\n",
    "pd.set_option('precision', 4)\n",
    "\n",
    "# Plot configuration\n",
    "plt.figure(figsize=(16, 6))\n",
    "plt.style.use('fivethirtyeight')\n",
    "\n",
    "# Seaborn configuration\n",
    "sns.set(color_codes=True)\n",
    "\n",
    "# Enable inline plotting\n",
    "%matplotlib inline\n",
    "\n",
    "mpl.rcParams['axes.titlesize'] = 14\n",
    "mpl.rcParams['axes.titleweight'] = 14\n",
    "mpl.rcParams['axes.labelsize'] = 12\n",
    "mpl.rcParams['figure.figsize'] = 11.7,8.27\n",
    "mpl.rcParams['xtick.labelsize'] = 12\n",
    "mpl.rcParams['ytick.labelsize'] = 12\n",
    "mpl.rcParams['text.color'] = 'k'"
   ]
  },
  {
   "cell_type": "code",
   "execution_count": 4,
   "metadata": {},
   "outputs": [],
   "source": [
    "# Loading yearly events\n",
    "df_events = pd.read_csv(\"2019EventsVLC.csv\", sep=';', encoding='utf-8', header=0, na_values=['NA'])"
   ]
  },
  {
   "cell_type": "code",
   "execution_count": 5,
   "metadata": {},
   "outputs": [
    {
     "data": {
      "text/html": [
       "<div>\n",
       "<style scoped>\n",
       "    .dataframe tbody tr th:only-of-type {\n",
       "        vertical-align: middle;\n",
       "    }\n",
       "\n",
       "    .dataframe tbody tr th {\n",
       "        vertical-align: top;\n",
       "    }\n",
       "\n",
       "    .dataframe thead th {\n",
       "        text-align: right;\n",
       "    }\n",
       "</style>\n",
       "<table border=\"1\" class=\"dataframe\">\n",
       "  <thead>\n",
       "    <tr style=\"text-align: right;\">\n",
       "      <th></th>\n",
       "      <th>Date</th>\n",
       "      <th>Event</th>\n",
       "      <th>Place</th>\n",
       "      <th>City</th>\n",
       "      <th>Category</th>\n",
       "      <th>Subcategory</th>\n",
       "    </tr>\n",
       "  </thead>\n",
       "  <tbody>\n",
       "    <tr>\n",
       "      <th>0</th>\n",
       "      <td>15/06/2019</td>\n",
       "      <td>Marea</td>\n",
       "      <td>Auditorio Marina Sur</td>\n",
       "      <td>Valencia</td>\n",
       "      <td>Musica</td>\n",
       "      <td>NaN</td>\n",
       "    </tr>\n",
       "    <tr>\n",
       "      <th>1</th>\n",
       "      <td>22/06/2019</td>\n",
       "      <td>Taburete</td>\n",
       "      <td>Auditorio Marina Sur</td>\n",
       "      <td>Valencia</td>\n",
       "      <td>Musica</td>\n",
       "      <td>NaN</td>\n",
       "    </tr>\n",
       "    <tr>\n",
       "      <th>2</th>\n",
       "      <td>29/06/2019</td>\n",
       "      <td>Vanesa Martín</td>\n",
       "      <td>Plaza de Toros</td>\n",
       "      <td>Valencia</td>\n",
       "      <td>Musica</td>\n",
       "      <td>NaN</td>\n",
       "    </tr>\n",
       "    <tr>\n",
       "      <th>3</th>\n",
       "      <td>29/06/2019</td>\n",
       "      <td>Operación Triunfo – Gira OT</td>\n",
       "      <td>Auditorio Marina Sur</td>\n",
       "      <td>Valencia</td>\n",
       "      <td>Musica</td>\n",
       "      <td>NaN</td>\n",
       "    </tr>\n",
       "    <tr>\n",
       "      <th>4</th>\n",
       "      <td>30/06/2019</td>\n",
       "      <td>David Bisbal</td>\n",
       "      <td>Conciertos de Viveros</td>\n",
       "      <td>Valencia</td>\n",
       "      <td>Musica</td>\n",
       "      <td>NaN</td>\n",
       "    </tr>\n",
       "  </tbody>\n",
       "</table>\n",
       "</div>"
      ],
      "text/plain": [
       "         Date                        Event                  Place      City  \\\n",
       "0  15/06/2019                        Marea   Auditorio Marina Sur  Valencia   \n",
       "1  22/06/2019                     Taburete   Auditorio Marina Sur  Valencia   \n",
       "2  29/06/2019                Vanesa Martín         Plaza de Toros  Valencia   \n",
       "3  29/06/2019  Operación Triunfo – Gira OT   Auditorio Marina Sur  Valencia   \n",
       "4  30/06/2019                 David Bisbal  Conciertos de Viveros  Valencia   \n",
       "\n",
       "  Category Subcategory  \n",
       "0   Musica         NaN  \n",
       "1   Musica         NaN  \n",
       "2   Musica         NaN  \n",
       "3   Musica         NaN  \n",
       "4   Musica         NaN  "
      ]
     },
     "execution_count": 5,
     "metadata": {},
     "output_type": "execute_result"
    }
   ],
   "source": [
    "df_events.head()"
   ]
  },
  {
   "cell_type": "code",
   "execution_count": 6,
   "metadata": {},
   "outputs": [
    {
     "name": "stdout",
     "output_type": "stream",
     "text": [
      "<class 'pandas.core.frame.DataFrame'>\n",
      "RangeIndex: 171 entries, 0 to 170\n",
      "Data columns (total 6 columns):\n",
      "Date           171 non-null object\n",
      "Event          171 non-null object\n",
      "Place          171 non-null object\n",
      "City           171 non-null object\n",
      "Category       171 non-null object\n",
      "Subcategory    56 non-null object\n",
      "dtypes: object(6)\n",
      "memory usage: 8.1+ KB\n"
     ]
    }
   ],
   "source": [
    "df_events.info()"
   ]
  },
  {
   "cell_type": "code",
   "execution_count": 7,
   "metadata": {},
   "outputs": [],
   "source": [
    "df_events['Date'] = pd.to_datetime(df_events['Date'])\n",
    "# Converting Category to categorical\n",
    "df_events['Category'] = df_events.Category.astype('category')"
   ]
  },
  {
   "cell_type": "code",
   "execution_count": 8,
   "metadata": {},
   "outputs": [
    {
     "data": {
      "text/plain": [
       "['Musica', 'Feria', 'Deporte', 'Congreso']"
      ]
     },
     "execution_count": 8,
     "metadata": {},
     "output_type": "execute_result"
    }
   ],
   "source": [
    "df_events.Category.unique().tolist()"
   ]
  },
  {
   "cell_type": "markdown",
   "metadata": {},
   "source": [
    "## Properties"
   ]
  },
  {
   "cell_type": "code",
   "execution_count": 287,
   "metadata": {},
   "outputs": [],
   "source": [
    "# Loading properties to a data frame from csv file \n",
    "df_prop1 = pd.read_csv(\"PropertiesVLC.csv\", sep=';', encoding='utf-8', header=0, na_values=['NA'])"
   ]
  },
  {
   "cell_type": "code",
   "execution_count": 288,
   "metadata": {},
   "outputs": [
    {
     "name": "stdout",
     "output_type": "stream",
     "text": [
      "propertyId      0\n",
      "propertyType    0\n",
      "district        0\n",
      "coords          0\n",
      "dtype: int64\n"
     ]
    }
   ],
   "source": [
    "# Check for null values in the dataset\n",
    "print(df_prop1.isnull().sum())"
   ]
  },
  {
   "cell_type": "code",
   "execution_count": 289,
   "metadata": {},
   "outputs": [
    {
     "data": {
      "text/html": [
       "<div>\n",
       "<style scoped>\n",
       "    .dataframe tbody tr th:only-of-type {\n",
       "        vertical-align: middle;\n",
       "    }\n",
       "\n",
       "    .dataframe tbody tr th {\n",
       "        vertical-align: top;\n",
       "    }\n",
       "\n",
       "    .dataframe thead th {\n",
       "        text-align: right;\n",
       "    }\n",
       "</style>\n",
       "<table border=\"1\" class=\"dataframe\">\n",
       "  <thead>\n",
       "    <tr style=\"text-align: right;\">\n",
       "      <th></th>\n",
       "      <th>propertyId</th>\n",
       "      <th>propertyType</th>\n",
       "      <th>district</th>\n",
       "      <th>coords</th>\n",
       "    </tr>\n",
       "  </thead>\n",
       "  <tbody>\n",
       "    <tr>\n",
       "      <th>0</th>\n",
       "      <td>12656</td>\n",
       "      <td>Hotel</td>\n",
       "      <td>Poblados marítimos, Valencia</td>\n",
       "      <td>-0.323789566755295,39.4650841913551</td>\n",
       "    </tr>\n",
       "    <tr>\n",
       "      <th>1</th>\n",
       "      <td>13270</td>\n",
       "      <td>Hotel</td>\n",
       "      <td>Ciutat Vella, Valencia</td>\n",
       "      <td>-0.376952290534973,39.4710278753057</td>\n",
       "    </tr>\n",
       "    <tr>\n",
       "      <th>2</th>\n",
       "      <td>14441</td>\n",
       "      <td>Hotel</td>\n",
       "      <td>Campanar, Valencia</td>\n",
       "      <td>-0.388724505901337,39.4802276264005</td>\n",
       "    </tr>\n",
       "    <tr>\n",
       "      <th>3</th>\n",
       "      <td>14580</td>\n",
       "      <td>Hotel</td>\n",
       "      <td>Poblados marítimos, Valencia</td>\n",
       "      <td>-0.323579013347626,39.4637061283809</td>\n",
       "    </tr>\n",
       "    <tr>\n",
       "      <th>4</th>\n",
       "      <td>17344</td>\n",
       "      <td>Apartahotel</td>\n",
       "      <td>Benicalap, Valencia</td>\n",
       "      <td>-0.400978177785873,39.4935991016437</td>\n",
       "    </tr>\n",
       "  </tbody>\n",
       "</table>\n",
       "</div>"
      ],
      "text/plain": [
       "   propertyId propertyType                       district  \\\n",
       "0       12656        Hotel   Poblados marítimos, Valencia   \n",
       "1       13270        Hotel         Ciutat Vella, Valencia   \n",
       "2       14441        Hotel             Campanar, Valencia   \n",
       "3       14580        Hotel   Poblados marítimos, Valencia   \n",
       "4       17344  Apartahotel            Benicalap, Valencia   \n",
       "\n",
       "                                coords  \n",
       "0  -0.323789566755295,39.4650841913551  \n",
       "1  -0.376952290534973,39.4710278753057  \n",
       "2  -0.388724505901337,39.4802276264005  \n",
       "3  -0.323579013347626,39.4637061283809  \n",
       "4  -0.400978177785873,39.4935991016437  "
      ]
     },
     "execution_count": 289,
     "metadata": {},
     "output_type": "execute_result"
    }
   ],
   "source": [
    "df_prop1.head()"
   ]
  },
  {
   "cell_type": "code",
   "execution_count": 290,
   "metadata": {},
   "outputs": [
    {
     "name": "stdout",
     "output_type": "stream",
     "text": [
      "Shape of data: (760, 4)\n"
     ]
    }
   ],
   "source": [
    "print(\"Shape of data: {}\".format(df_prop1.shape))"
   ]
  },
  {
   "cell_type": "code",
   "execution_count": 292,
   "metadata": {},
   "outputs": [],
   "source": [
    "# Eliminate rows with propertyType null\n",
    "df_prop1 = df_prop1[pd.notnull(df_prop1['propertyType'])]"
   ]
  },
  {
   "cell_type": "code",
   "execution_count": 293,
   "metadata": {},
   "outputs": [
    {
     "name": "stdout",
     "output_type": "stream",
     "text": [
      "Shape of data: (760, 4)\n"
     ]
    }
   ],
   "source": [
    "print(\"Shape of data: {}\".format(df_prop1.shape))"
   ]
  },
  {
   "cell_type": "code",
   "execution_count": 294,
   "metadata": {},
   "outputs": [],
   "source": [
    "df_prop1.sort_values(\"propertyId\", inplace = True)"
   ]
  },
  {
   "cell_type": "code",
   "execution_count": 295,
   "metadata": {},
   "outputs": [
    {
     "data": {
      "text/html": [
       "<div>\n",
       "<style scoped>\n",
       "    .dataframe tbody tr th:only-of-type {\n",
       "        vertical-align: middle;\n",
       "    }\n",
       "\n",
       "    .dataframe tbody tr th {\n",
       "        vertical-align: top;\n",
       "    }\n",
       "\n",
       "    .dataframe thead th {\n",
       "        text-align: right;\n",
       "    }\n",
       "</style>\n",
       "<table border=\"1\" class=\"dataframe\">\n",
       "  <thead>\n",
       "    <tr style=\"text-align: right;\">\n",
       "      <th></th>\n",
       "      <th>propertyId</th>\n",
       "      <th>propertyType</th>\n",
       "      <th>district</th>\n",
       "      <th>coords</th>\n",
       "    </tr>\n",
       "  </thead>\n",
       "  <tbody>\n",
       "    <tr>\n",
       "      <th>0</th>\n",
       "      <td>12656</td>\n",
       "      <td>Hotel</td>\n",
       "      <td>Poblados marítimos, Valencia</td>\n",
       "      <td>-0.323789566755295,39.4650841913551</td>\n",
       "    </tr>\n",
       "    <tr>\n",
       "      <th>1</th>\n",
       "      <td>13270</td>\n",
       "      <td>Hotel</td>\n",
       "      <td>Ciutat Vella, Valencia</td>\n",
       "      <td>-0.376952290534973,39.4710278753057</td>\n",
       "    </tr>\n",
       "    <tr>\n",
       "      <th>2</th>\n",
       "      <td>14441</td>\n",
       "      <td>Hotel</td>\n",
       "      <td>Campanar, Valencia</td>\n",
       "      <td>-0.388724505901337,39.4802276264005</td>\n",
       "    </tr>\n",
       "    <tr>\n",
       "      <th>3</th>\n",
       "      <td>14580</td>\n",
       "      <td>Hotel</td>\n",
       "      <td>Poblados marítimos, Valencia</td>\n",
       "      <td>-0.323579013347626,39.4637061283809</td>\n",
       "    </tr>\n",
       "    <tr>\n",
       "      <th>4</th>\n",
       "      <td>17344</td>\n",
       "      <td>Apartahotel</td>\n",
       "      <td>Benicalap, Valencia</td>\n",
       "      <td>-0.400978177785873,39.4935991016437</td>\n",
       "    </tr>\n",
       "    <tr>\n",
       "      <th>5</th>\n",
       "      <td>17468</td>\n",
       "      <td>Apartamentos</td>\n",
       "      <td>Ciutat Vella, Valencia</td>\n",
       "      <td>-0.375876724720001,39.47885710935</td>\n",
       "    </tr>\n",
       "    <tr>\n",
       "      <th>6</th>\n",
       "      <td>18544</td>\n",
       "      <td>Apartamentos</td>\n",
       "      <td>Extramurs, Valencia</td>\n",
       "      <td>-0.385724455118179,39.4721035025734</td>\n",
       "    </tr>\n",
       "    <tr>\n",
       "      <th>7</th>\n",
       "      <td>23332</td>\n",
       "      <td>Hotel</td>\n",
       "      <td>Poblados marítimos, Valencia</td>\n",
       "      <td>-0.323690325021744,39.4642807560034</td>\n",
       "    </tr>\n",
       "    <tr>\n",
       "      <th>8</th>\n",
       "      <td>24498</td>\n",
       "      <td>Hotel</td>\n",
       "      <td>Poblados marítimos, Valencia</td>\n",
       "      <td>-0.323730558156967,39.4647808334785</td>\n",
       "    </tr>\n",
       "    <tr>\n",
       "      <th>9</th>\n",
       "      <td>25278</td>\n",
       "      <td>Albergue</td>\n",
       "      <td>Ciutat Vella, Valencia</td>\n",
       "      <td>-0.369946360588074,39.4746625797156</td>\n",
       "    </tr>\n",
       "  </tbody>\n",
       "</table>\n",
       "</div>"
      ],
      "text/plain": [
       "   propertyId  propertyType                       district  \\\n",
       "0       12656         Hotel   Poblados marítimos, Valencia   \n",
       "1       13270         Hotel         Ciutat Vella, Valencia   \n",
       "2       14441         Hotel             Campanar, Valencia   \n",
       "3       14580         Hotel   Poblados marítimos, Valencia   \n",
       "4       17344   Apartahotel            Benicalap, Valencia   \n",
       "5       17468  Apartamentos         Ciutat Vella, Valencia   \n",
       "6       18544  Apartamentos            Extramurs, Valencia   \n",
       "7       23332         Hotel   Poblados marítimos, Valencia   \n",
       "8       24498         Hotel   Poblados marítimos, Valencia   \n",
       "9       25278      Albergue         Ciutat Vella, Valencia   \n",
       "\n",
       "                                coords  \n",
       "0  -0.323789566755295,39.4650841913551  \n",
       "1  -0.376952290534973,39.4710278753057  \n",
       "2  -0.388724505901337,39.4802276264005  \n",
       "3  -0.323579013347626,39.4637061283809  \n",
       "4  -0.400978177785873,39.4935991016437  \n",
       "5    -0.375876724720001,39.47885710935  \n",
       "6  -0.385724455118179,39.4721035025734  \n",
       "7  -0.323690325021744,39.4642807560034  \n",
       "8  -0.323730558156967,39.4647808334785  \n",
       "9  -0.369946360588074,39.4746625797156  "
      ]
     },
     "execution_count": 295,
     "metadata": {},
     "output_type": "execute_result"
    }
   ],
   "source": [
    "df_prop1.head(10)"
   ]
  },
  {
   "cell_type": "code",
   "execution_count": 296,
   "metadata": {},
   "outputs": [],
   "source": [
    "df_prop1['district'] = df_prop1['district'].str.strip()\n",
    "df_prop1[['longitude','latitude']] = df_prop1.coords.str.split(',',expand=True)\n",
    "df_prop1[['tmpDistrict','locality']] = df_prop1.district.str.split(',',expand=True)"
   ]
  },
  {
   "cell_type": "code",
   "execution_count": 297,
   "metadata": {},
   "outputs": [],
   "source": [
    "df_prop1.drop(columns=['district', 'coords', 'locality'], inplace = True)"
   ]
  },
  {
   "cell_type": "code",
   "execution_count": 298,
   "metadata": {},
   "outputs": [],
   "source": [
    "df_prop1.rename(columns={'tmpDistrict': 'district'}, inplace = True)"
   ]
  },
  {
   "cell_type": "code",
   "execution_count": 299,
   "metadata": {},
   "outputs": [],
   "source": [
    "# Converting propertyType to categorical\n",
    "df_prop1['propertyType'] = df_prop1.propertyType.astype('category')"
   ]
  },
  {
   "cell_type": "code",
   "execution_count": 300,
   "metadata": {},
   "outputs": [
    {
     "data": {
      "text/plain": [
       "['Hotel',\n",
       " 'Apartahotel',\n",
       " 'Apartamentos',\n",
       " 'Albergue',\n",
       " 'Apartamento',\n",
       " 'Hostal o pensión',\n",
       " 'Bed & breakfast',\n",
       " 'Residencia de estudiantes',\n",
       " 'Casa o chalet',\n",
       " 'Habitación en casa particular',\n",
       " 'Casas y chalets',\n",
       " 'Tented camp',\n",
       " 'Barco',\n",
       " 'Camping']"
      ]
     },
     "execution_count": 300,
     "metadata": {},
     "output_type": "execute_result"
    }
   ],
   "source": [
    "df_prop1.propertyType.unique().tolist()"
   ]
  },
  {
   "cell_type": "code",
   "execution_count": 301,
   "metadata": {},
   "outputs": [],
   "source": [
    "df_prop1['propertyType'] = df_prop1['propertyType'].replace('Apartamentos','Apartamento')\n",
    "df_prop1['propertyType'] = df_prop1['propertyType'].replace('Casa o chalet','Casa/Chalet')\n",
    "df_prop1['propertyType'] = df_prop1['propertyType'].replace('Casas y chalets','Casa/Chalet')\n",
    "df_prop1['propertyType'] = df_prop1['propertyType'].replace('Apartahotel','ApartHotel')\n",
    "df_prop1['propertyType'] = df_prop1['propertyType'].replace('Bed & breakfast','B&B')\n",
    "df_prop1['propertyType'] = df_prop1['propertyType'].replace('Habitación en casa particular','Habitacion')\n",
    "df_prop1['propertyType'] = df_prop1['propertyType'].replace('Residencia de estudiantes','Residencia')\n",
    "df_prop1['propertyType'] = df_prop1['propertyType'].replace('Hostal o pensión','Hostal/Pension')"
   ]
  },
  {
   "cell_type": "code",
   "execution_count": 302,
   "metadata": {},
   "outputs": [
    {
     "data": {
      "text/plain": [
       "['Hotel',\n",
       " 'ApartHotel',\n",
       " 'Apartamento',\n",
       " 'Albergue',\n",
       " 'Hostal/Pension',\n",
       " 'B&B',\n",
       " 'Residencia',\n",
       " 'Casa/Chalet',\n",
       " 'Habitacion',\n",
       " 'Tented camp',\n",
       " 'Barco',\n",
       " 'Camping']"
      ]
     },
     "execution_count": 302,
     "metadata": {},
     "output_type": "execute_result"
    }
   ],
   "source": [
    "df_prop1.propertyType.unique().tolist()"
   ]
  },
  {
   "cell_type": "code",
   "execution_count": 303,
   "metadata": {},
   "outputs": [],
   "source": [
    "df_prop1.set_index('propertyId', inplace = True)"
   ]
  },
  {
   "cell_type": "code",
   "execution_count": 304,
   "metadata": {},
   "outputs": [
    {
     "data": {
      "text/html": [
       "<div>\n",
       "<style scoped>\n",
       "    .dataframe tbody tr th:only-of-type {\n",
       "        vertical-align: middle;\n",
       "    }\n",
       "\n",
       "    .dataframe tbody tr th {\n",
       "        vertical-align: top;\n",
       "    }\n",
       "\n",
       "    .dataframe thead th {\n",
       "        text-align: right;\n",
       "    }\n",
       "</style>\n",
       "<table border=\"1\" class=\"dataframe\">\n",
       "  <thead>\n",
       "    <tr style=\"text-align: right;\">\n",
       "      <th></th>\n",
       "      <th>propertyType</th>\n",
       "      <th>longitude</th>\n",
       "      <th>latitude</th>\n",
       "      <th>district</th>\n",
       "    </tr>\n",
       "    <tr>\n",
       "      <th>propertyId</th>\n",
       "      <th></th>\n",
       "      <th></th>\n",
       "      <th></th>\n",
       "      <th></th>\n",
       "    </tr>\n",
       "  </thead>\n",
       "  <tbody>\n",
       "    <tr>\n",
       "      <th>12656</th>\n",
       "      <td>Hotel</td>\n",
       "      <td>-0.323789566755295</td>\n",
       "      <td>39.4650841913551</td>\n",
       "      <td>Poblados marítimos</td>\n",
       "    </tr>\n",
       "    <tr>\n",
       "      <th>13270</th>\n",
       "      <td>Hotel</td>\n",
       "      <td>-0.376952290534973</td>\n",
       "      <td>39.4710278753057</td>\n",
       "      <td>Ciutat Vella</td>\n",
       "    </tr>\n",
       "    <tr>\n",
       "      <th>14441</th>\n",
       "      <td>Hotel</td>\n",
       "      <td>-0.388724505901337</td>\n",
       "      <td>39.4802276264005</td>\n",
       "      <td>Campanar</td>\n",
       "    </tr>\n",
       "    <tr>\n",
       "      <th>14580</th>\n",
       "      <td>Hotel</td>\n",
       "      <td>-0.323579013347626</td>\n",
       "      <td>39.4637061283809</td>\n",
       "      <td>Poblados marítimos</td>\n",
       "    </tr>\n",
       "    <tr>\n",
       "      <th>17344</th>\n",
       "      <td>ApartHotel</td>\n",
       "      <td>-0.400978177785873</td>\n",
       "      <td>39.4935991016437</td>\n",
       "      <td>Benicalap</td>\n",
       "    </tr>\n",
       "  </tbody>\n",
       "</table>\n",
       "</div>"
      ],
      "text/plain": [
       "           propertyType           longitude          latitude  \\\n",
       "propertyId                                                      \n",
       "12656             Hotel  -0.323789566755295  39.4650841913551   \n",
       "13270             Hotel  -0.376952290534973  39.4710278753057   \n",
       "14441             Hotel  -0.388724505901337  39.4802276264005   \n",
       "14580             Hotel  -0.323579013347626  39.4637061283809   \n",
       "17344        ApartHotel  -0.400978177785873  39.4935991016437   \n",
       "\n",
       "                      district  \n",
       "propertyId                      \n",
       "12656       Poblados marítimos  \n",
       "13270             Ciutat Vella  \n",
       "14441                 Campanar  \n",
       "14580       Poblados marítimos  \n",
       "17344                Benicalap  "
      ]
     },
     "execution_count": 304,
     "metadata": {},
     "output_type": "execute_result"
    }
   ],
   "source": [
    "df_prop1.head()"
   ]
  },
  {
   "cell_type": "code",
   "execution_count": 152,
   "metadata": {},
   "outputs": [],
   "source": [
    "#df_prop_1.drop(columns=['name'], inplace=True)"
   ]
  },
  {
   "cell_type": "code",
   "execution_count": 305,
   "metadata": {},
   "outputs": [],
   "source": [
    "# dropping ALL duplicated values except first occurrence\n",
    "df_prop1.drop_duplicates(keep = 'first', inplace = True) "
   ]
  },
  {
   "cell_type": "code",
   "execution_count": 306,
   "metadata": {},
   "outputs": [
    {
     "data": {
      "text/plain": [
       "array(['Algirós', 'Benicalap', 'Benimaclet', 'Camins al Grau', 'Campanar',\n",
       "       'Ciutat Vella', 'Eixample', 'El Pla del Real', 'Extramurs',\n",
       "       'Jesús', 'La Saïdia', 'Olivereta', 'Patraix',\n",
       "       'Playa de la Malvarrosa', 'Poblados marítimos', 'Quatre Carreres',\n",
       "       'Rascanya', 'Valencia'], dtype='<U22')"
      ]
     },
     "execution_count": 306,
     "metadata": {},
     "output_type": "execute_result"
    }
   ],
   "source": [
    "# Districts\n",
    "district_names = np.sort(df_prop1.district.unique().tolist())\n",
    "district_names"
   ]
  },
  {
   "cell_type": "code",
   "execution_count": 307,
   "metadata": {},
   "outputs": [
    {
     "name": "stdout",
     "output_type": "stream",
     "text": [
      "propertyType    0\n",
      "longitude       0\n",
      "latitude        0\n",
      "district        0\n",
      "dtype: int64\n"
     ]
    }
   ],
   "source": [
    "# Check for null values in the dataset\n",
    "print(df_prop1.isnull().sum())"
   ]
  },
  {
   "cell_type": "code",
   "execution_count": 156,
   "metadata": {},
   "outputs": [],
   "source": [
    "#df_prop1[df_prop1['propertyType'].isnull()]"
   ]
  },
  {
   "cell_type": "markdown",
   "metadata": {},
   "source": [
    "## Prices"
   ]
  },
  {
   "cell_type": "code",
   "execution_count": 308,
   "metadata": {},
   "outputs": [
    {
     "name": "stdout",
     "output_type": "stream",
     "text": [
      "Reading file <20190722_225212_Booking_Valencia_7.csv>\n",
      "Reading file <20190722_225230_Booking_Valencia_14.csv>\n",
      "Reading file <20190722_225248_Booking_Valencia_30.csv>\n",
      "Reading file <20190722_225302_Booking_Valencia_60.csv>\n",
      "Reading file <20190722_225315_Booking_Valencia_90.csv>\n",
      "Reading file <20190723_212717_Booking_Valencia_7.csv>\n",
      "Reading file <20190723_212756_Booking_Valencia_14.csv>\n",
      "Reading file <20190723_212809_Booking_Valencia_30.csv>\n",
      "Reading file <20190723_212901_Booking_Valencia_60.csv>\n",
      "Reading file <20190723_212917_Booking_Valencia_90.csv>\n",
      "Reading file <20190724_092126_Booking_Valencia_7.csv>\n",
      "Reading file <20190724_092145_Booking_Valencia_14.csv>\n",
      "Reading file <20190724_092208_Booking_Valencia_30.csv>\n",
      "Reading file <20190724_092244_Booking_Valencia_60.csv>\n",
      "Reading file <20190724_092306_Booking_Valencia_90.csv>\n",
      "Reading file <20190725_124219_Booking_Valencia_7.csv>\n",
      "Reading file <20190725_124243_Booking_Valencia_14.csv>\n",
      "Reading file <20190725_160420_Booking_Valencia_30.csv>\n",
      "Reading file <20190725_160440_Booking_Valencia_60.csv>\n",
      "Reading file <20190725_160500_Booking_Valencia_90.csv>\n",
      "Reading file <20190726_120528_Booking_Valencia_7.csv>\n",
      "Reading file <20190726_120617_Booking_Valencia_14.csv>\n",
      "Reading file <20190726_120647_Booking_Valencia_30.csv>\n",
      "Reading file <20190726_120704_Booking_Valencia_60.csv>\n",
      "Reading file <20190726_120748_Booking_Valencia_90.csv>\n",
      "Reading file <20190727_012934_Booking_Valencia_7.csv>\n",
      "Reading file <20190727_013026_Booking_Valencia_14.csv>\n",
      "Reading file <20190727_013050_Booking_Valencia_30.csv>\n",
      "Reading file <20190727_013110_Booking_Valencia_60.csv>\n",
      "Reading file <20190727_201149_Booking_Valencia_90.csv>\n",
      "Reading file <20190728_090208_Booking_Valencia_7.csv>\n",
      "Reading file <20190728_090357_Booking_Valencia_14.csv>\n",
      "Reading file <20190728_090415_Booking_Valencia_30.csv>\n",
      "Reading file <20190728_090432_Booking_Valencia_60.csv>\n",
      "Reading file <20190728_090515_Booking_Valencia_90.csv>\n",
      "Reading file <20190729_175124_Booking_Valencia_7.csv>\n",
      "Reading file <20190729_181342_Booking_Valencia_14.csv>\n",
      "Reading file <20190729_181810_Booking_Valencia_30.csv>\n",
      "Reading file <20190729_182314_Booking_Valencia_60.csv>\n",
      "Reading file <20190729_182540_Booking_Valencia_90.csv>\n",
      "Reading file <20190730_104945_Booking_Valencia_7.csv>\n",
      "Reading file <20190730_105009_Booking_Valencia_14.csv>\n",
      "Reading file <20190730_105028_Booking_Valencia_30.csv>\n",
      "Reading file <20190730_105043_Booking_Valencia_60.csv>\n",
      "Reading file <20190730_105100_Booking_Valencia_90.csv>\n",
      "Reading file <20190731_114749_Booking_Valencia_7.csv>\n",
      "Reading file <20190731_114806_Booking_Valencia_14.csv>\n",
      "Reading file <20190731_114821_Booking_Valencia_30.csv>\n",
      "Reading file <20190731_114835_Booking_Valencia_60.csv>\n",
      "Reading file <20190731_114855_Booking_Valencia_90.csv>\n",
      "Reading file <20190801_092612_Booking_Valencia_7.csv>\n",
      "Reading file <20190801_114846_Booking_Valencia_14.csv>\n",
      "Reading file <20190801_114904_Booking_Valencia_30.csv>\n",
      "Reading file <20190801_114922_Booking_Valencia_60.csv>\n",
      "Reading file <20190801_114941_Booking_Valencia_90.csv>\n",
      "Reading file <20190802_145611_Booking_Valencia_7.csv>\n",
      "Reading file <20190802_145653_Booking_Valencia_14.csv>\n",
      "Reading file <20190802_145711_Booking_Valencia_30.csv>\n",
      "Reading file <20190802_145735_Booking_Valencia_60.csv>\n",
      "Reading file <20190802_145752_Booking_Valencia_90.csv>\n",
      "Reading file <20190803_104643_Booking_Valencia_7.csv>\n",
      "Reading file <20190803_105901_Booking_Valencia_14.csv>\n",
      "Reading file <20190803_105936_Booking_Valencia_30.csv>\n",
      "Reading file <20190803_110006_Booking_Valencia_60.csv>\n",
      "Reading file <20190803_110037_Booking_Valencia_90.csv>\n",
      "Reading file <20190804_192919_Booking_Valencia_7.csv>\n",
      "Reading file <20190804_192942_Booking_Valencia_14.csv>\n",
      "Reading file <20190804_193005_Booking_Valencia_30.csv>\n",
      "Reading file <20190804_193030_Booking_Valencia_60.csv>\n",
      "Reading file <20190804_193104_Booking_Valencia_90.csv>\n",
      "Reading file <20190805_080311_Booking_Valencia_7.csv>\n",
      "Reading file <20190805_080342_Booking_Valencia_14.csv>\n",
      "Reading file <20190805_080408_Booking_Valencia_30.csv>\n",
      "Reading file <20190805_080428_Booking_Valencia_60.csv>\n",
      "Reading file <20190805_080453_Booking_Valencia_90.csv>\n",
      "Reading file <20190806_113200_Booking_Valencia_7.csv>\n",
      "Reading file <20190806_113218_Booking_Valencia_14.csv>\n",
      "Reading file <20190806_113231_Booking_Valencia_30.csv>\n",
      "Reading file <20190806_113244_Booking_Valencia_60.csv>\n",
      "Reading file <20190806_113258_Booking_Valencia_90.csv>\n",
      "Reading file <20190807_105947_Booking_Valencia_7.csv>\n",
      "Reading file <20190807_143444_Booking_Valencia_14.csv>\n",
      "Reading file <20190807_145959_Booking_Valencia_30.csv>\n",
      "Reading file <20190807_150016_Booking_Valencia_60.csv>\n",
      "Reading file <20190807_150031_Booking_Valencia_90.csv>\n",
      "Reading file <20190808_082952_Booking_Valencia_7.csv>\n",
      "Reading file <20190808_083007_Booking_Valencia_14.csv>\n",
      "Reading file <20190808_083019_Booking_Valencia_30.csv>\n",
      "Reading file <20190808_083033_Booking_Valencia_60.csv>\n",
      "Reading file <20190808_083101_Booking_Valencia_90.csv>\n",
      "Reading file <20190809_145522_Booking_Valencia_7.csv>\n",
      "Reading file <20190809_145534_Booking_Valencia_14.csv>\n",
      "Reading file <20190809_145553_Booking_Valencia_30.csv>\n",
      "Reading file <20190809_145611_Booking_Valencia_60.csv>\n",
      "Reading file <20190809_145628_Booking_Valencia_90.csv>\n",
      "Reading file <20190810_092305_Booking_Valencia_7.csv>\n",
      "Reading file <20190810_092321_Booking_Valencia_14.csv>\n",
      "Reading file <20190810_092342_Booking_Valencia_30.csv>\n",
      "Reading file <20190810_092357_Booking_Valencia_60.csv>\n",
      "Reading file <20190810_092411_Booking_Valencia_90.csv>\n",
      "Reading file <20190811_175757_Booking_Valencia_7.csv>\n",
      "Reading file <20190811_175852_Booking_Valencia_14.csv>\n",
      "Reading file <20190811_175918_Booking_Valencia_30.csv>\n",
      "Reading file <20190811_180007_Booking_Valencia_60.csv>\n",
      "Reading file <20190811_180024_Booking_Valencia_90.csv>\n",
      "Reading file <20190812_122013_Booking_Valencia_7.csv>\n",
      "Reading file <20190812_122028_Booking_Valencia_14.csv>\n",
      "Reading file <20190812_122042_Booking_Valencia_30.csv>\n",
      "Reading file <20190812_122056_Booking_Valencia_60.csv>\n",
      "Reading file <20190812_122111_Booking_Valencia_90.csv>\n",
      "Reading file <20190813_090039_Booking_Valencia_7.csv>\n",
      "Reading file <20190813_090137_Booking_Valencia_14.csv>\n",
      "Reading file <20190813_163620_Booking_Valencia_30.csv>\n",
      "Reading file <20190813_163633_Booking_Valencia_60.csv>\n",
      "Reading file <20190813_163647_Booking_Valencia_90.csv>\n",
      "Reading file <20190814_121850_Booking_Valencia_7.csv>\n",
      "Reading file <20190814_121904_Booking_Valencia_14.csv>\n",
      "Reading file <20190814_122007_Booking_Valencia_30.csv>\n",
      "Reading file <20190814_122024_Booking_Valencia_60.csv>\n",
      "Reading file <20190814_122039_Booking_Valencia_90.csv>\n",
      "Reading file <20190815_104445_Booking_Valencia_7.csv>\n",
      "Reading file <20190815_104501_Booking_Valencia_14.csv>\n",
      "Reading file <20190815_104513_Booking_Valencia_30.csv>\n",
      "Reading file <20190815_104531_Booking_Valencia_60.csv>\n",
      "Reading file <20190815_104554_Booking_Valencia_90.csv>\n",
      "Reading file <20190816_080242_Booking_Valencia_7.csv>\n",
      "Reading file <20190816_080255_Booking_Valencia_14.csv>\n",
      "Reading file <20190816_080309_Booking_Valencia_30.csv>\n",
      "Reading file <20190816_080323_Booking_Valencia_60.csv>\n",
      "Reading file <20190816_080336_Booking_Valencia_90.csv>\n",
      "Reading file <20190817_114859_Booking_Valencia_14.csv>\n",
      "Reading file <20190817_114915_Booking_Valencia_30.csv>\n",
      "Reading file <20190817_114931_Booking_Valencia_60.csv>\n",
      "Reading file <20190817_114950_Booking_Valencia_90.csv>\n",
      "Reading file <20190817_115017_Booking_Valencia_7.csv>\n",
      "Reading file <20190818_230721_Booking_Valencia_7.csv>\n",
      "Reading file <20190818_230744_Booking_Valencia_14.csv>\n",
      "Reading file <20190818_230806_Booking_Valencia_30.csv>\n",
      "Reading file <20190818_230843_Booking_Valencia_60.csv>\n",
      "Reading file <20190818_230857_Booking_Valencia_90.csv>\n",
      "Reading file <20190819_170549_Booking_Valencia_7.csv>\n",
      "Reading file <20190819_170603_Booking_Valencia_14.csv>\n",
      "Reading file <20190819_170620_Booking_Valencia_30.csv>\n",
      "Reading file <20190819_170637_Booking_Valencia_60.csv>\n",
      "Reading file <20190819_170654_Booking_Valencia_90.csv>\n",
      "Reading file <20190820_183630_Booking_Valencia_7.csv>\n",
      "Reading file <20190820_183839_Booking_Valencia_14.csv>\n",
      "Reading file <20190820_183852_Booking_Valencia_30.csv>\n",
      "Reading file <20190820_183916_Booking_Valencia_60.csv>\n",
      "Reading file <20190820_183942_Booking_Valencia_90.csv>\n",
      "Reading file <20190821_171218_Booking_Valencia_7.csv>\n",
      "Reading file <20190821_171231_Booking_Valencia_14.csv>\n",
      "Reading file <20190821_171242_Booking_Valencia_30.csv>\n",
      "Reading file <20190821_171301_Booking_Valencia_60.csv>\n",
      "Reading file <20190821_171318_Booking_Valencia_90.csv>\n",
      "Reading file <20190822_141456_Booking_Valencia_7.csv>\n",
      "Reading file <20190822_141520_Booking_Valencia_14.csv>\n",
      "Reading file <20190822_141533_Booking_Valencia_30.csv>\n",
      "Reading file <20190822_145105_Booking_Valencia_60.csv>\n",
      "Reading file <20190822_145335_Booking_Valencia_90.csv>\n",
      "Reading file <20190823_105535_Booking_Valencia_7.csv>\n",
      "Reading file <20190823_105545_Booking_Valencia_14.csv>\n",
      "Reading file <20190823_105557_Booking_Valencia_30.csv>\n",
      "Reading file <20190823_105614_Booking_Valencia_60.csv>\n",
      "Reading file <20190823_105647_Booking_Valencia_90.csv>\n",
      "Reading file <20190824_172928_Booking_Valencia_7.csv>\n",
      "Reading file <20190824_172941_Booking_Valencia_14.csv>\n",
      "Reading file <20190824_172959_Booking_Valencia_30.csv>\n",
      "Reading file <20190824_173027_Booking_Valencia_60.csv>\n",
      "Reading file <20190824_173046_Booking_Valencia_90.csv>\n",
      "Reading file <20190825_173102_Booking_Valencia_7.csv>\n",
      "Reading file <20190825_173116_Booking_Valencia_14.csv>\n",
      "Reading file <20190825_173138_Booking_Valencia_30.csv>\n",
      "Reading file <20190825_173154_Booking_Valencia_60.csv>\n",
      "Reading file <20190825_173207_Booking_Valencia_90.csv>\n",
      "Reading file <20190826_133433_Booking_Valencia_7.csv>\n"
     ]
    },
    {
     "name": "stdout",
     "output_type": "stream",
     "text": [
      "Reading file <20190826_133446_Booking_Valencia_14.csv>\n",
      "Reading file <20190826_133459_Booking_Valencia_30.csv>\n",
      "Reading file <20190826_133510_Booking_Valencia_60.csv>\n",
      "Reading file <20190826_133524_Booking_Valencia_90.csv>\n",
      "Reading file <20190827_111453_Booking_Valencia_7.csv>\n",
      "Reading file <20190827_111507_Booking_Valencia_14.csv>\n",
      "Reading file <20190827_111520_Booking_Valencia_30.csv>\n",
      "Reading file <20190827_111530_Booking_Valencia_60.csv>\n",
      "Reading file <20190827_111545_Booking_Valencia_90.csv>\n",
      "Reading file <20190828_081950_Booking_Valencia_7.csv>\n",
      "Reading file <20190828_082003_Booking_Valencia_14.csv>\n",
      "Reading file <20190828_082015_Booking_Valencia_60.csv>\n",
      "Reading file <20190828_082028_Booking_Valencia_30.csv>\n",
      "Reading file <20190828_082043_Booking_Valencia_90.csv>\n",
      "Reading file <20190829_114228_Booking_Valencia_7.csv>\n",
      "Reading file <20190829_114241_Booking_Valencia_14.csv>\n",
      "Reading file <20190829_114253_Booking_Valencia_30.csv>\n",
      "Reading file <20190829_114307_Booking_Valencia_60.csv>\n",
      "Reading file <20190829_114320_Booking_Valencia_90.csv>\n",
      "Reading file <20190830_131920_Booking_Valencia_7.csv>\n",
      "Reading file <20190830_131939_Booking_Valencia_14.csv>\n",
      "Reading file <20190830_131951_Booking_Valencia_30.csv>\n",
      "Reading file <20190830_132004_Booking_Valencia_60.csv>\n",
      "Reading file <20190830_132016_Booking_Valencia_90.csv>\n",
      "Reading file <20190901_082452_Booking_Valencia_7.csv>\n",
      "Reading file <20190901_082505_Booking_Valencia_14.csv>\n",
      "Reading file <20190901_082518_Booking_Valencia_30.csv>\n",
      "Reading file <20190901_082530_Booking_Valencia_60.csv>\n",
      "Reading file <20190901_082539_Booking_Valencia_90.csv>\n",
      "Reading file <20190902_082935_Booking_Valencia_7.csv>\n",
      "Reading file <20190902_083139_Booking_Valencia_14.csv>\n",
      "Reading file <20190902_083152_Booking_Valencia_30.csv>\n",
      "Reading file <20190902_083204_Booking_Valencia_60.csv>\n",
      "Reading file <20190902_083216_Booking_Valencia_90.csv>\n",
      "Reading file <20190903_214420_Booking_Valencia_7.csv>\n",
      "Reading file <20190903_214610_Booking_Valencia_14.csv>\n",
      "Reading file <20190903_215128_Booking_Valencia_30.csv>\n",
      "Reading file <20190903_215159_Booking_Valencia_60.csv>\n",
      "Reading file <20190903_215516_Booking_Valencia_90.csv>\n",
      "Reading file <20190904_080719_Booking_Valencia_7.csv>\n",
      "Reading file <20190904_084840_Booking_Valencia_14.csv>\n",
      "Reading file <20190904_084904_Booking_Valencia_30.csv>\n",
      "Reading file <20190904_084925_Booking_Valencia_60.csv>\n",
      "Reading file <20190904_084938_Booking_Valencia_90.csv>\n",
      "Reading file <20190905_114345_Booking_Valencia_7.csv>\n",
      "Reading file <20190905_114405_Booking_Valencia_14.csv>\n",
      "Reading file <20190905_114418_Booking_Valencia_30.csv>\n",
      "Reading file <20190905_114434_Booking_Valencia_60.csv>\n",
      "Reading file <20190905_114451_Booking_Valencia_90.csv>\n",
      "Reading file <20190906_205026_Booking_Valencia_7.csv>\n",
      "Reading file <20190906_205808_Booking_Valencia_14.csv>\n",
      "Reading file <20190906_205826_Booking_Valencia_30.csv>\n",
      "Reading file <20190906_205843_Booking_Valencia_60.csv>\n",
      "Reading file <20190906_205859_Booking_Valencia_90.csv>\n",
      "Reading file <20190907_195326_Booking_Valencia_7.csv>\n",
      "Reading file <20190907_195342_Booking_Valencia_14.csv>\n",
      "Reading file <20190907_195401_Booking_Valencia_30.csv>\n",
      "Reading file <20190907_195416_Booking_Valencia_60.csv>\n",
      "Reading file <20190907_195427_Booking_Valencia_90.csv>\n"
     ]
    }
   ],
   "source": [
    "# making data frame from csv file \n",
    "lst_hotels = []\n",
    "def concatFiles(folder):\n",
    "    for file in os.listdir(folder):\n",
    "        filename = os.path.join(folder, file) \n",
    "        print('Reading file <' + os.path.basename(filename) + '>')\n",
    "        df_temp = pd.read_csv(filename, sep=',', encoding='utf-8', \\\n",
    "                       header=0, parse_dates=['checkIn','checkOut'], dayfirst=False, na_values=['NA'])\n",
    "        #df['filename'] = os.path.basename(filename)\n",
    "        lst_hotels.append(df_temp)\n",
    " \n",
    "concatFiles(\".\\\\data\\\\\")"
   ]
  },
  {
   "cell_type": "code",
   "execution_count": 309,
   "metadata": {},
   "outputs": [
    {
     "name": "stdout",
     "output_type": "stream",
     "text": [
      "Shape of data: (83330, 12)\n"
     ]
    }
   ],
   "source": [
    "df_prop2 = pd.concat(lst_hotels, axis=0, ignore_index=True)\n",
    "print(\"Shape of data: {}\".format(df_prop2.shape))"
   ]
  },
  {
   "cell_type": "code",
   "execution_count": 310,
   "metadata": {},
   "outputs": [
    {
     "data": {
      "text/html": [
       "<div>\n",
       "<style scoped>\n",
       "    .dataframe tbody tr th:only-of-type {\n",
       "        vertical-align: middle;\n",
       "    }\n",
       "\n",
       "    .dataframe tbody tr th {\n",
       "        vertical-align: top;\n",
       "    }\n",
       "\n",
       "    .dataframe thead th {\n",
       "        text-align: right;\n",
       "    }\n",
       "</style>\n",
       "<table border=\"1\" class=\"dataframe\">\n",
       "  <thead>\n",
       "    <tr style=\"text-align: right;\">\n",
       "      <th></th>\n",
       "      <th>name</th>\n",
       "      <th>propertyId</th>\n",
       "      <th>propertyType</th>\n",
       "      <th>city</th>\n",
       "      <th>rooms</th>\n",
       "      <th>days</th>\n",
       "      <th>price</th>\n",
       "      <th>checkIn</th>\n",
       "      <th>checkOut</th>\n",
       "      <th>stars</th>\n",
       "      <th>score</th>\n",
       "      <th>advance</th>\n",
       "    </tr>\n",
       "  </thead>\n",
       "  <tbody>\n",
       "    <tr>\n",
       "      <th>83325</th>\n",
       "      <td>Kirei Apartment Portland</td>\n",
       "      <td>4276529</td>\n",
       "      <td>Apartamentos</td>\n",
       "      <td>Valencia</td>\n",
       "      <td>1</td>\n",
       "      <td>1</td>\n",
       "      <td>€ 200</td>\n",
       "      <td>2019-12-06</td>\n",
       "      <td>2019-12-07</td>\n",
       "      <td>0</td>\n",
       "      <td>5,9</td>\n",
       "      <td>90</td>\n",
       "    </tr>\n",
       "    <tr>\n",
       "      <th>83326</th>\n",
       "      <td>Port of Valencia</td>\n",
       "      <td>3805735</td>\n",
       "      <td>Apartamento</td>\n",
       "      <td>Valencia</td>\n",
       "      <td>1</td>\n",
       "      <td>1</td>\n",
       "      <td>€ 150</td>\n",
       "      <td>2019-12-06</td>\n",
       "      <td>2019-12-07</td>\n",
       "      <td>0</td>\n",
       "      <td>4,9</td>\n",
       "      <td>90</td>\n",
       "    </tr>\n",
       "    <tr>\n",
       "      <th>83327</th>\n",
       "      <td>Malvarosa</td>\n",
       "      <td>3820590</td>\n",
       "      <td>Apartamento</td>\n",
       "      <td>Valencia</td>\n",
       "      <td>1</td>\n",
       "      <td>1</td>\n",
       "      <td>€ 190</td>\n",
       "      <td>2019-12-06</td>\n",
       "      <td>2019-12-07</td>\n",
       "      <td>0</td>\n",
       "      <td>4,1</td>\n",
       "      <td>90</td>\n",
       "    </tr>\n",
       "    <tr>\n",
       "      <th>83328</th>\n",
       "      <td>Aventura</td>\n",
       "      <td>5567318</td>\n",
       "      <td>Apartamentos</td>\n",
       "      <td>Valencia</td>\n",
       "      <td>1</td>\n",
       "      <td>1</td>\n",
       "      <td>€ 40</td>\n",
       "      <td>2019-12-06</td>\n",
       "      <td>2019-12-07</td>\n",
       "      <td>0</td>\n",
       "      <td>NaN</td>\n",
       "      <td>90</td>\n",
       "    </tr>\n",
       "    <tr>\n",
       "      <th>83329</th>\n",
       "      <td>Como en casa !!</td>\n",
       "      <td>5427108</td>\n",
       "      <td>NaN</td>\n",
       "      <td>Valencia</td>\n",
       "      <td>1</td>\n",
       "      <td>1</td>\n",
       "      <td>€ 40</td>\n",
       "      <td>2019-12-06</td>\n",
       "      <td>2019-12-07</td>\n",
       "      <td>0</td>\n",
       "      <td>NaN</td>\n",
       "      <td>90</td>\n",
       "    </tr>\n",
       "  </tbody>\n",
       "</table>\n",
       "</div>"
      ],
      "text/plain": [
       "                           name  propertyId  propertyType      city  rooms  \\\n",
       "83325  Kirei Apartment Portland     4276529  Apartamentos  Valencia      1   \n",
       "83326          Port of Valencia     3805735   Apartamento  Valencia      1   \n",
       "83327                 Malvarosa     3820590   Apartamento  Valencia      1   \n",
       "83328                  Aventura     5567318  Apartamentos  Valencia      1   \n",
       "83329           Como en casa !!     5427108           NaN  Valencia      1   \n",
       "\n",
       "       days  price    checkIn   checkOut  stars score  advance  \n",
       "83325     1  € 200 2019-12-06 2019-12-07      0   5,9       90  \n",
       "83326     1  € 150 2019-12-06 2019-12-07      0   4,9       90  \n",
       "83327     1  € 190 2019-12-06 2019-12-07      0   4,1       90  \n",
       "83328     1   € 40 2019-12-06 2019-12-07      0   NaN       90  \n",
       "83329     1   € 40 2019-12-06 2019-12-07      0   NaN       90  "
      ]
     },
     "execution_count": 310,
     "metadata": {},
     "output_type": "execute_result"
    }
   ],
   "source": [
    "# Preview the last 5 lines of loaded data \n",
    "df_prop2.tail(5)"
   ]
  },
  {
   "cell_type": "markdown",
   "metadata": {},
   "source": [
    "### Cleaning data"
   ]
  },
  {
   "cell_type": "code",
   "execution_count": 311,
   "metadata": {},
   "outputs": [
    {
     "name": "stdout",
     "output_type": "stream",
     "text": [
      "name                0\n",
      "propertyId          0\n",
      "propertyType    41755\n",
      "city                0\n",
      "rooms               0\n",
      "days                0\n",
      "price            9147\n",
      "checkIn             0\n",
      "checkOut            0\n",
      "stars               0\n",
      "score            5898\n",
      "advance             0\n",
      "dtype: int64\n"
     ]
    }
   ],
   "source": [
    "# Checking for null values in the dataset\n",
    "print(df_prop2.isnull().sum())"
   ]
  },
  {
   "cell_type": "code",
   "execution_count": 312,
   "metadata": {},
   "outputs": [],
   "source": [
    "# Eliminating rows without price\n",
    "df_prop2 = df_prop2[pd.notnull(df_prop2['price'])]"
   ]
  },
  {
   "cell_type": "code",
   "execution_count": 313,
   "metadata": {},
   "outputs": [
    {
     "name": "stdout",
     "output_type": "stream",
     "text": [
      "Shape of data: (74183, 12)\n"
     ]
    }
   ],
   "source": [
    "print(\"Shape of data: {}\".format(df_prop2.shape))"
   ]
  },
  {
   "cell_type": "code",
   "execution_count": 271,
   "metadata": {},
   "outputs": [],
   "source": [
    "# Assigning correct value to 'propertyType' based on 'name'\n",
    "# df_prop2.loc[df_prop2['name'].str.contains('Apartament'), 'propertyType'] = 'Apartamento'\n",
    "# df_prop2.loc[df_prop2['name'].str.contains('Apartment'), 'propertyType'] = 'Apartamento'\n",
    "# df_prop2.loc[df_prop2['name'].str.contains('Flats'), 'propertyType'] = 'Apartamento'\n",
    "# df_prop2.loc[df_prop2['name'].str.contains('flats'), 'propertyType'] = 'Apartamento'\n",
    "# df_prop2.loc[df_prop2['name'].str.contains('Rentals'), 'propertyType'] = 'Apartamento'\n",
    "# df_prop2.loc[df_prop2['name'].str.contains('rentals'), 'propertyType'] = 'Apartamento'\n",
    "# df_prop2.loc[df_prop2['name'].str.contains('Hostal'), 'propertyType'] = 'Hostal/Pension'"
   ]
  },
  {
   "cell_type": "code",
   "execution_count": 314,
   "metadata": {},
   "outputs": [
    {
     "name": "stdout",
     "output_type": "stream",
     "text": [
      "name                0\n",
      "propertyId          0\n",
      "propertyType    39393\n",
      "city                0\n",
      "rooms               0\n",
      "days                0\n",
      "price               0\n",
      "checkIn             0\n",
      "checkOut            0\n",
      "stars               0\n",
      "score            5867\n",
      "advance             0\n",
      "dtype: int64\n"
     ]
    }
   ],
   "source": [
    "# Checking for null values in the dataset\n",
    "print(df_prop2.isnull().sum())"
   ]
  },
  {
   "cell_type": "code",
   "execution_count": 273,
   "metadata": {},
   "outputs": [],
   "source": [
    "#df_prop_2.reset_index()\n",
    "# the check-in column is set as index column\n",
    "#df_prop_2.set_index('propertyId', inplace = True)\n",
    "#hotels_df.set_index('checkIn', inplace = True)"
   ]
  },
  {
   "cell_type": "markdown",
   "metadata": {},
   "source": [
    "### Splitting columns"
   ]
  },
  {
   "cell_type": "code",
   "execution_count": 315,
   "metadata": {},
   "outputs": [],
   "source": [
    "df_prop2[['currency','netPrice']] = df_prop2.price.str.split(expand=True) "
   ]
  },
  {
   "cell_type": "code",
   "execution_count": 316,
   "metadata": {},
   "outputs": [
    {
     "data": {
      "text/html": [
       "<div>\n",
       "<style scoped>\n",
       "    .dataframe tbody tr th:only-of-type {\n",
       "        vertical-align: middle;\n",
       "    }\n",
       "\n",
       "    .dataframe tbody tr th {\n",
       "        vertical-align: top;\n",
       "    }\n",
       "\n",
       "    .dataframe thead th {\n",
       "        text-align: right;\n",
       "    }\n",
       "</style>\n",
       "<table border=\"1\" class=\"dataframe\">\n",
       "  <thead>\n",
       "    <tr style=\"text-align: right;\">\n",
       "      <th></th>\n",
       "      <th>name</th>\n",
       "      <th>propertyId</th>\n",
       "      <th>propertyType</th>\n",
       "      <th>city</th>\n",
       "      <th>rooms</th>\n",
       "      <th>days</th>\n",
       "      <th>price</th>\n",
       "      <th>checkIn</th>\n",
       "      <th>checkOut</th>\n",
       "      <th>stars</th>\n",
       "      <th>score</th>\n",
       "      <th>advance</th>\n",
       "      <th>currency</th>\n",
       "      <th>netPrice</th>\n",
       "    </tr>\n",
       "  </thead>\n",
       "  <tbody>\n",
       "    <tr>\n",
       "      <th>0</th>\n",
       "      <td>Lotelito</td>\n",
       "      <td>570027</td>\n",
       "      <td>Hotel</td>\n",
       "      <td>Valencia</td>\n",
       "      <td>1</td>\n",
       "      <td>1</td>\n",
       "      <td>€ 89</td>\n",
       "      <td>2019-07-29</td>\n",
       "      <td>2019-07-30</td>\n",
       "      <td>0</td>\n",
       "      <td>8,9</td>\n",
       "      <td>7</td>\n",
       "      <td>€</td>\n",
       "      <td>89</td>\n",
       "    </tr>\n",
       "    <tr>\n",
       "      <th>1</th>\n",
       "      <td>Miresa flats</td>\n",
       "      <td>5300418</td>\n",
       "      <td>Apartamento</td>\n",
       "      <td>Valencia</td>\n",
       "      <td>1</td>\n",
       "      <td>1</td>\n",
       "      <td>€ 125</td>\n",
       "      <td>2019-07-29</td>\n",
       "      <td>2019-07-30</td>\n",
       "      <td>0</td>\n",
       "      <td>NaN</td>\n",
       "      <td>7</td>\n",
       "      <td>€</td>\n",
       "      <td>125</td>\n",
       "    </tr>\n",
       "    <tr>\n",
       "      <th>3</th>\n",
       "      <td>MYR Hotel Plaza Mercado &amp; Spa</td>\n",
       "      <td>1619029</td>\n",
       "      <td>Apartahotel</td>\n",
       "      <td>Valencia</td>\n",
       "      <td>1</td>\n",
       "      <td>1</td>\n",
       "      <td>€ 124</td>\n",
       "      <td>2019-07-29</td>\n",
       "      <td>2019-07-30</td>\n",
       "      <td>0</td>\n",
       "      <td>9,2</td>\n",
       "      <td>7</td>\n",
       "      <td>€</td>\n",
       "      <td>124</td>\n",
       "    </tr>\n",
       "    <tr>\n",
       "      <th>4</th>\n",
       "      <td>Miresa flats 2.1A</td>\n",
       "      <td>5399747</td>\n",
       "      <td>Apartamento</td>\n",
       "      <td>Valencia</td>\n",
       "      <td>1</td>\n",
       "      <td>1</td>\n",
       "      <td>€ 90</td>\n",
       "      <td>2019-07-29</td>\n",
       "      <td>2019-07-30</td>\n",
       "      <td>0</td>\n",
       "      <td>NaN</td>\n",
       "      <td>7</td>\n",
       "      <td>€</td>\n",
       "      <td>90</td>\n",
       "    </tr>\n",
       "    <tr>\n",
       "      <th>5</th>\n",
       "      <td>Catedral Reina Apartaments</td>\n",
       "      <td>5348651</td>\n",
       "      <td>Apartamentos</td>\n",
       "      <td>Valencia</td>\n",
       "      <td>1</td>\n",
       "      <td>1</td>\n",
       "      <td>€ 140</td>\n",
       "      <td>2019-07-29</td>\n",
       "      <td>2019-07-30</td>\n",
       "      <td>0</td>\n",
       "      <td>NaN</td>\n",
       "      <td>7</td>\n",
       "      <td>€</td>\n",
       "      <td>140</td>\n",
       "    </tr>\n",
       "  </tbody>\n",
       "</table>\n",
       "</div>"
      ],
      "text/plain": [
       "                            name  propertyId  propertyType      city  rooms  \\\n",
       "0                       Lotelito      570027         Hotel  Valencia      1   \n",
       "1                   Miresa flats     5300418   Apartamento  Valencia      1   \n",
       "3  MYR Hotel Plaza Mercado & Spa     1619029   Apartahotel  Valencia      1   \n",
       "4              Miresa flats 2.1A     5399747   Apartamento  Valencia      1   \n",
       "5     Catedral Reina Apartaments     5348651  Apartamentos  Valencia      1   \n",
       "\n",
       "   days  price    checkIn   checkOut  stars score  advance currency netPrice  \n",
       "0     1   € 89 2019-07-29 2019-07-30      0   8,9        7        €       89  \n",
       "1     1  € 125 2019-07-29 2019-07-30      0   NaN        7        €      125  \n",
       "3     1  € 124 2019-07-29 2019-07-30      0   9,2        7        €      124  \n",
       "4     1   € 90 2019-07-29 2019-07-30      0   NaN        7        €       90  \n",
       "5     1  € 140 2019-07-29 2019-07-30      0   NaN        7        €      140  "
      ]
     },
     "execution_count": 316,
     "metadata": {},
     "output_type": "execute_result"
    }
   ],
   "source": [
    "df_prop2.head(5)"
   ]
  },
  {
   "cell_type": "markdown",
   "metadata": {},
   "source": [
    "### Dropping columns"
   ]
  },
  {
   "cell_type": "code",
   "execution_count": 317,
   "metadata": {},
   "outputs": [],
   "source": [
    "# Deleting propertyTpe because its in df_prop1\n",
    "df_prop2.drop(columns=['propertyType', 'city', 'rooms', 'days', 'price', 'currency'], inplace=True)"
   ]
  },
  {
   "cell_type": "code",
   "execution_count": 318,
   "metadata": {},
   "outputs": [
    {
     "data": {
      "text/html": [
       "<div>\n",
       "<style scoped>\n",
       "    .dataframe tbody tr th:only-of-type {\n",
       "        vertical-align: middle;\n",
       "    }\n",
       "\n",
       "    .dataframe tbody tr th {\n",
       "        vertical-align: top;\n",
       "    }\n",
       "\n",
       "    .dataframe thead th {\n",
       "        text-align: right;\n",
       "    }\n",
       "</style>\n",
       "<table border=\"1\" class=\"dataframe\">\n",
       "  <thead>\n",
       "    <tr style=\"text-align: right;\">\n",
       "      <th></th>\n",
       "      <th>name</th>\n",
       "      <th>propertyId</th>\n",
       "      <th>checkIn</th>\n",
       "      <th>checkOut</th>\n",
       "      <th>stars</th>\n",
       "      <th>score</th>\n",
       "      <th>advance</th>\n",
       "      <th>netPrice</th>\n",
       "    </tr>\n",
       "  </thead>\n",
       "  <tbody>\n",
       "    <tr>\n",
       "      <th>0</th>\n",
       "      <td>Lotelito</td>\n",
       "      <td>570027</td>\n",
       "      <td>2019-07-29</td>\n",
       "      <td>2019-07-30</td>\n",
       "      <td>0</td>\n",
       "      <td>8,9</td>\n",
       "      <td>7</td>\n",
       "      <td>89</td>\n",
       "    </tr>\n",
       "    <tr>\n",
       "      <th>1</th>\n",
       "      <td>Miresa flats</td>\n",
       "      <td>5300418</td>\n",
       "      <td>2019-07-29</td>\n",
       "      <td>2019-07-30</td>\n",
       "      <td>0</td>\n",
       "      <td>NaN</td>\n",
       "      <td>7</td>\n",
       "      <td>125</td>\n",
       "    </tr>\n",
       "    <tr>\n",
       "      <th>3</th>\n",
       "      <td>MYR Hotel Plaza Mercado &amp; Spa</td>\n",
       "      <td>1619029</td>\n",
       "      <td>2019-07-29</td>\n",
       "      <td>2019-07-30</td>\n",
       "      <td>0</td>\n",
       "      <td>9,2</td>\n",
       "      <td>7</td>\n",
       "      <td>124</td>\n",
       "    </tr>\n",
       "    <tr>\n",
       "      <th>4</th>\n",
       "      <td>Miresa flats 2.1A</td>\n",
       "      <td>5399747</td>\n",
       "      <td>2019-07-29</td>\n",
       "      <td>2019-07-30</td>\n",
       "      <td>0</td>\n",
       "      <td>NaN</td>\n",
       "      <td>7</td>\n",
       "      <td>90</td>\n",
       "    </tr>\n",
       "    <tr>\n",
       "      <th>5</th>\n",
       "      <td>Catedral Reina Apartaments</td>\n",
       "      <td>5348651</td>\n",
       "      <td>2019-07-29</td>\n",
       "      <td>2019-07-30</td>\n",
       "      <td>0</td>\n",
       "      <td>NaN</td>\n",
       "      <td>7</td>\n",
       "      <td>140</td>\n",
       "    </tr>\n",
       "  </tbody>\n",
       "</table>\n",
       "</div>"
      ],
      "text/plain": [
       "                            name  propertyId    checkIn   checkOut  stars  \\\n",
       "0                       Lotelito      570027 2019-07-29 2019-07-30      0   \n",
       "1                   Miresa flats     5300418 2019-07-29 2019-07-30      0   \n",
       "3  MYR Hotel Plaza Mercado & Spa     1619029 2019-07-29 2019-07-30      0   \n",
       "4              Miresa flats 2.1A     5399747 2019-07-29 2019-07-30      0   \n",
       "5     Catedral Reina Apartaments     5348651 2019-07-29 2019-07-30      0   \n",
       "\n",
       "  score  advance netPrice  \n",
       "0   8,9        7       89  \n",
       "1   NaN        7      125  \n",
       "3   9,2        7      124  \n",
       "4   NaN        7       90  \n",
       "5   NaN        7      140  "
      ]
     },
     "execution_count": 318,
     "metadata": {},
     "output_type": "execute_result"
    }
   ],
   "source": [
    "df_prop2.head(5)"
   ]
  },
  {
   "cell_type": "markdown",
   "metadata": {},
   "source": [
    "### Casting data"
   ]
  },
  {
   "cell_type": "code",
   "execution_count": 319,
   "metadata": {},
   "outputs": [],
   "source": [
    "# Casting Price to float\n",
    "df_prop2['netPrice'] = df_prop2.netPrice.astype('float32')"
   ]
  },
  {
   "cell_type": "code",
   "execution_count": 320,
   "metadata": {},
   "outputs": [],
   "source": [
    "# Casting stars to object\n",
    "df_prop2['stars'] = df_prop2.stars.astype('str')"
   ]
  },
  {
   "cell_type": "code",
   "execution_count": 321,
   "metadata": {},
   "outputs": [
    {
     "name": "stdout",
     "output_type": "stream",
     "text": [
      "<class 'pandas.core.frame.DataFrame'>\n",
      "Int64Index: 74183 entries, 0 to 83329\n",
      "Data columns (total 8 columns):\n",
      "name          74183 non-null object\n",
      "propertyId    74183 non-null int64\n",
      "checkIn       74183 non-null datetime64[ns]\n",
      "checkOut      74183 non-null datetime64[ns]\n",
      "stars         74183 non-null object\n",
      "score         68316 non-null object\n",
      "advance       74183 non-null int64\n",
      "netPrice      74183 non-null float32\n",
      "dtypes: datetime64[ns](2), float32(1), int64(2), object(3)\n",
      "memory usage: 4.8+ MB\n"
     ]
    }
   ],
   "source": [
    "df_prop2.info()"
   ]
  },
  {
   "cell_type": "code",
   "execution_count": 322,
   "metadata": {},
   "outputs": [],
   "source": [
    "# Decoding number of stars\n",
    "df_prop2['stars'] = df_prop2['stars'].replace('0', 'Non star')\n",
    "df_prop2['stars'] = df_prop2['stars'].replace('1', '1 star')\n",
    "df_prop2['stars'] = df_prop2['stars'].replace('2', '2 star')\n",
    "df_prop2['stars'] = df_prop2['stars'].replace('3', '3 star')\n",
    "df_prop2['stars'] = df_prop2['stars'].replace('4', '4 star')\n",
    "df_prop2['stars'] = df_prop2['stars'].replace('5', '5 star')"
   ]
  },
  {
   "cell_type": "code",
   "execution_count": 323,
   "metadata": {},
   "outputs": [
    {
     "data": {
      "text/html": [
       "<div>\n",
       "<style scoped>\n",
       "    .dataframe tbody tr th:only-of-type {\n",
       "        vertical-align: middle;\n",
       "    }\n",
       "\n",
       "    .dataframe tbody tr th {\n",
       "        vertical-align: top;\n",
       "    }\n",
       "\n",
       "    .dataframe thead th {\n",
       "        text-align: right;\n",
       "    }\n",
       "</style>\n",
       "<table border=\"1\" class=\"dataframe\">\n",
       "  <thead>\n",
       "    <tr style=\"text-align: right;\">\n",
       "      <th></th>\n",
       "      <th>name</th>\n",
       "      <th>propertyId</th>\n",
       "      <th>checkIn</th>\n",
       "      <th>checkOut</th>\n",
       "      <th>stars</th>\n",
       "      <th>score</th>\n",
       "      <th>advance</th>\n",
       "      <th>netPrice</th>\n",
       "    </tr>\n",
       "  </thead>\n",
       "  <tbody>\n",
       "    <tr>\n",
       "      <th>1621</th>\n",
       "      <td>Las Arenas Balneario Resort</td>\n",
       "      <td>91144</td>\n",
       "      <td>2019-07-30</td>\n",
       "      <td>2019-07-31</td>\n",
       "      <td>5 star</td>\n",
       "      <td>9</td>\n",
       "      <td>7</td>\n",
       "      <td>297.0</td>\n",
       "    </tr>\n",
       "    <tr>\n",
       "      <th>1622</th>\n",
       "      <td>Caro Hotel</td>\n",
       "      <td>348132</td>\n",
       "      <td>2019-07-30</td>\n",
       "      <td>2019-07-31</td>\n",
       "      <td>5 star</td>\n",
       "      <td>9,2</td>\n",
       "      <td>7</td>\n",
       "      <td>495.0</td>\n",
       "    </tr>\n",
       "    <tr>\n",
       "      <th>1716</th>\n",
       "      <td>SH Valencia Palace</td>\n",
       "      <td>91497</td>\n",
       "      <td>2019-07-30</td>\n",
       "      <td>2019-07-31</td>\n",
       "      <td>5 star</td>\n",
       "      <td>8,5</td>\n",
       "      <td>7</td>\n",
       "      <td>135.0</td>\n",
       "    </tr>\n",
       "    <tr>\n",
       "      <th>1773</th>\n",
       "      <td>Hospes Palau de La Mar</td>\n",
       "      <td>93823</td>\n",
       "      <td>2019-07-30</td>\n",
       "      <td>2019-07-31</td>\n",
       "      <td>5 star</td>\n",
       "      <td>8,8</td>\n",
       "      <td>7</td>\n",
       "      <td>212.0</td>\n",
       "    </tr>\n",
       "    <tr>\n",
       "      <th>1778</th>\n",
       "      <td>The Westin Valencia</td>\n",
       "      <td>93321</td>\n",
       "      <td>2019-07-30</td>\n",
       "      <td>2019-07-31</td>\n",
       "      <td>5 star</td>\n",
       "      <td>8,7</td>\n",
       "      <td>7</td>\n",
       "      <td>213.0</td>\n",
       "    </tr>\n",
       "  </tbody>\n",
       "</table>\n",
       "</div>"
      ],
      "text/plain": [
       "                             name  propertyId    checkIn   checkOut   stars  \\\n",
       "1621  Las Arenas Balneario Resort       91144 2019-07-30 2019-07-31  5 star   \n",
       "1622                   Caro Hotel      348132 2019-07-30 2019-07-31  5 star   \n",
       "1716           SH Valencia Palace       91497 2019-07-30 2019-07-31  5 star   \n",
       "1773       Hospes Palau de La Mar       93823 2019-07-30 2019-07-31  5 star   \n",
       "1778          The Westin Valencia       93321 2019-07-30 2019-07-31  5 star   \n",
       "\n",
       "     score  advance  netPrice  \n",
       "1621     9        7     297.0  \n",
       "1622   9,2        7     495.0  \n",
       "1716   8,5        7     135.0  \n",
       "1773   8,8        7     212.0  \n",
       "1778   8,7        7     213.0  "
      ]
     },
     "execution_count": 323,
     "metadata": {},
     "output_type": "execute_result"
    }
   ],
   "source": [
    "# Showing first 5 stars properties\n",
    "df_prop2[df_prop2['stars']=='5 star'].head()"
   ]
  },
  {
   "cell_type": "code",
   "execution_count": 324,
   "metadata": {},
   "outputs": [],
   "source": [
    "# Casting stars object to categorical\n",
    "df_prop2['stars'] = df_prop2.stars.astype('category')"
   ]
  },
  {
   "cell_type": "code",
   "execution_count": 325,
   "metadata": {},
   "outputs": [],
   "source": [
    "# Casting score object to numeric\n",
    "df_prop2['score'] = df_prop2['score'].str.replace(',','.')\n",
    "df_prop2['score'] = pd.to_numeric(df_prop2['score']).round(1)"
   ]
  },
  {
   "cell_type": "code",
   "execution_count": 326,
   "metadata": {},
   "outputs": [
    {
     "data": {
      "text/plain": [
       "array([ 3.3,  3.4,  3.5,  3.8,  3.9,  4. ,  4.1,  4.5,  4.6,  4.7,  4.8,\n",
       "        4.9,  5. ,  5.1,  5.2,  5.3,  5.4,  5.5,  5.6,  5.7,  5.8,  5.9,\n",
       "        6. ,  6.1,  6.2,  6.3,  6.4,  6.5,  6.6,  6.7,  6.8,  6.9,  7. ,\n",
       "        7.1,  7.2,  7.3,  7.4,  7.5,  7.6,  7.7,  7.8,  7.9,  8. ,  8.1,\n",
       "        8.2,  8.3,  8.4,  8.5,  8.6,  8.7,  8.8,  8.9,  9. ,  9.1,  9.2,\n",
       "        9.3,  9.4,  9.5,  9.6,  9.7,  9.8,  9.9, 10. ,  nan])"
      ]
     },
     "execution_count": 326,
     "metadata": {},
     "output_type": "execute_result"
    }
   ],
   "source": [
    "# Scores values\n",
    "np.sort(df_prop2.score.unique())"
   ]
  },
  {
   "cell_type": "markdown",
   "metadata": {},
   "source": [
    "### Merging data"
   ]
  },
  {
   "cell_type": "code",
   "execution_count": 327,
   "metadata": {},
   "outputs": [],
   "source": [
    "# Merging hotel data + property data (district, latitude, longitude, propertyType)\n",
    "df_properties = pd.merge(df_prop2, df_prop1, on='propertyId', how='outer')"
   ]
  },
  {
   "cell_type": "code",
   "execution_count": 328,
   "metadata": {},
   "outputs": [
    {
     "name": "stdout",
     "output_type": "stream",
     "text": [
      "<class 'pandas.core.frame.DataFrame'>\n",
      "Int64Index: 74291 entries, 0 to 74290\n",
      "Data columns (total 12 columns):\n",
      "name            74183 non-null object\n",
      "propertyId      74291 non-null int64\n",
      "checkIn         74183 non-null datetime64[ns]\n",
      "checkOut        74183 non-null datetime64[ns]\n",
      "stars           74183 non-null category\n",
      "score           68316 non-null float64\n",
      "advance         74183 non-null float64\n",
      "netPrice        74183 non-null float32\n",
      "propertyType    68725 non-null object\n",
      "longitude       68725 non-null object\n",
      "latitude        68725 non-null object\n",
      "district        68725 non-null object\n",
      "dtypes: category(1), datetime64[ns](2), float32(1), float64(2), int64(1), object(5)\n",
      "memory usage: 6.6+ MB\n"
     ]
    }
   ],
   "source": [
    "df_properties.info()"
   ]
  },
  {
   "cell_type": "code",
   "execution_count": 329,
   "metadata": {},
   "outputs": [
    {
     "data": {
      "text/html": [
       "<div>\n",
       "<style scoped>\n",
       "    .dataframe tbody tr th:only-of-type {\n",
       "        vertical-align: middle;\n",
       "    }\n",
       "\n",
       "    .dataframe tbody tr th {\n",
       "        vertical-align: top;\n",
       "    }\n",
       "\n",
       "    .dataframe thead th {\n",
       "        text-align: right;\n",
       "    }\n",
       "</style>\n",
       "<table border=\"1\" class=\"dataframe\">\n",
       "  <thead>\n",
       "    <tr style=\"text-align: right;\">\n",
       "      <th></th>\n",
       "      <th>name</th>\n",
       "      <th>propertyId</th>\n",
       "      <th>checkIn</th>\n",
       "      <th>checkOut</th>\n",
       "      <th>stars</th>\n",
       "      <th>score</th>\n",
       "      <th>advance</th>\n",
       "      <th>netPrice</th>\n",
       "      <th>propertyType</th>\n",
       "      <th>longitude</th>\n",
       "      <th>latitude</th>\n",
       "      <th>district</th>\n",
       "    </tr>\n",
       "  </thead>\n",
       "  <tbody>\n",
       "    <tr>\n",
       "      <th>0</th>\n",
       "      <td>Lotelito</td>\n",
       "      <td>570027</td>\n",
       "      <td>2019-07-29</td>\n",
       "      <td>2019-07-30</td>\n",
       "      <td>Non star</td>\n",
       "      <td>8.9</td>\n",
       "      <td>7.0</td>\n",
       "      <td>89.0</td>\n",
       "      <td>Hostal/Pension</td>\n",
       "      <td>-0.374675095081329</td>\n",
       "      <td>39.4706562158203</td>\n",
       "      <td>Ciutat Vella</td>\n",
       "    </tr>\n",
       "    <tr>\n",
       "      <th>1</th>\n",
       "      <td>Lotelito</td>\n",
       "      <td>570027</td>\n",
       "      <td>2019-08-21</td>\n",
       "      <td>2019-08-22</td>\n",
       "      <td>Non star</td>\n",
       "      <td>8.9</td>\n",
       "      <td>30.0</td>\n",
       "      <td>101.0</td>\n",
       "      <td>Hostal/Pension</td>\n",
       "      <td>-0.374675095081329</td>\n",
       "      <td>39.4706562158203</td>\n",
       "      <td>Ciutat Vella</td>\n",
       "    </tr>\n",
       "    <tr>\n",
       "      <th>2</th>\n",
       "      <td>Lotelito</td>\n",
       "      <td>570027</td>\n",
       "      <td>2019-09-20</td>\n",
       "      <td>2019-09-21</td>\n",
       "      <td>Non star</td>\n",
       "      <td>8.9</td>\n",
       "      <td>60.0</td>\n",
       "      <td>152.0</td>\n",
       "      <td>Hostal/Pension</td>\n",
       "      <td>-0.374675095081329</td>\n",
       "      <td>39.4706562158203</td>\n",
       "      <td>Ciutat Vella</td>\n",
       "    </tr>\n",
       "    <tr>\n",
       "      <th>3</th>\n",
       "      <td>Lotelito</td>\n",
       "      <td>570027</td>\n",
       "      <td>2019-10-20</td>\n",
       "      <td>2019-10-21</td>\n",
       "      <td>Non star</td>\n",
       "      <td>8.9</td>\n",
       "      <td>90.0</td>\n",
       "      <td>87.0</td>\n",
       "      <td>Hostal/Pension</td>\n",
       "      <td>-0.374675095081329</td>\n",
       "      <td>39.4706562158203</td>\n",
       "      <td>Ciutat Vella</td>\n",
       "    </tr>\n",
       "    <tr>\n",
       "      <th>4</th>\n",
       "      <td>Lotelito</td>\n",
       "      <td>570027</td>\n",
       "      <td>2019-07-30</td>\n",
       "      <td>2019-07-31</td>\n",
       "      <td>Non star</td>\n",
       "      <td>8.9</td>\n",
       "      <td>7.0</td>\n",
       "      <td>95.0</td>\n",
       "      <td>Hostal/Pension</td>\n",
       "      <td>-0.374675095081329</td>\n",
       "      <td>39.4706562158203</td>\n",
       "      <td>Ciutat Vella</td>\n",
       "    </tr>\n",
       "  </tbody>\n",
       "</table>\n",
       "</div>"
      ],
      "text/plain": [
       "       name  propertyId    checkIn   checkOut     stars  score  advance  \\\n",
       "0  Lotelito      570027 2019-07-29 2019-07-30  Non star    8.9      7.0   \n",
       "1  Lotelito      570027 2019-08-21 2019-08-22  Non star    8.9     30.0   \n",
       "2  Lotelito      570027 2019-09-20 2019-09-21  Non star    8.9     60.0   \n",
       "3  Lotelito      570027 2019-10-20 2019-10-21  Non star    8.9     90.0   \n",
       "4  Lotelito      570027 2019-07-30 2019-07-31  Non star    8.9      7.0   \n",
       "\n",
       "   netPrice    propertyType           longitude          latitude  \\\n",
       "0      89.0  Hostal/Pension  -0.374675095081329  39.4706562158203   \n",
       "1     101.0  Hostal/Pension  -0.374675095081329  39.4706562158203   \n",
       "2     152.0  Hostal/Pension  -0.374675095081329  39.4706562158203   \n",
       "3      87.0  Hostal/Pension  -0.374675095081329  39.4706562158203   \n",
       "4      95.0  Hostal/Pension  -0.374675095081329  39.4706562158203   \n",
       "\n",
       "       district  \n",
       "0  Ciutat Vella  \n",
       "1  Ciutat Vella  \n",
       "2  Ciutat Vella  \n",
       "3  Ciutat Vella  \n",
       "4  Ciutat Vella  "
      ]
     },
     "execution_count": 329,
     "metadata": {},
     "output_type": "execute_result"
    }
   ],
   "source": [
    "df_properties.head()"
   ]
  },
  {
   "cell_type": "markdown",
   "metadata": {},
   "source": [
    "### Cleaning data"
   ]
  },
  {
   "cell_type": "code",
   "execution_count": 330,
   "metadata": {},
   "outputs": [
    {
     "name": "stdout",
     "output_type": "stream",
     "text": [
      "name             108\n",
      "propertyId         0\n",
      "checkIn          108\n",
      "checkOut         108\n",
      "stars            108\n",
      "score           5975\n",
      "advance          108\n",
      "netPrice         108\n",
      "propertyType    5566\n",
      "longitude       5566\n",
      "latitude        5566\n",
      "district        5566\n",
      "dtype: int64\n"
     ]
    }
   ],
   "source": [
    "# Checking for null values in the dataset\n",
    "print(df_properties.isnull().sum())"
   ]
  },
  {
   "cell_type": "code",
   "execution_count": 332,
   "metadata": {},
   "outputs": [
    {
     "data": {
      "text/plain": [
       "['Apartamento', 'Albergue', 'Casa/Chalet', 'Habitacion']"
      ]
     },
     "execution_count": 332,
     "metadata": {},
     "output_type": "execute_result"
    }
   ],
   "source": [
    "# Properties without Name\n",
    "df_name_null = df_properties[df_properties['name'].isnull()]\n",
    "df_name_null.propertyType.unique().tolist()"
   ]
  },
  {
   "cell_type": "code",
   "execution_count": 333,
   "metadata": {},
   "outputs": [],
   "source": [
    "#We can delete them as we don't have hotels in this subset of data\n",
    "df_properties = df_properties[pd.notnull(df_properties['name'])]"
   ]
  },
  {
   "cell_type": "code",
   "execution_count": 335,
   "metadata": {},
   "outputs": [],
   "source": [
    "# Properties without Property Type\n",
    "#df_propType_null = df_properties[df_properties['propertyType'].isnull()]\n",
    "#df_propType_null.name.unique().tolist()\n",
    "df_properties = df_properties[pd.notnull(df_properties['propertyType'])]"
   ]
  },
  {
   "cell_type": "code",
   "execution_count": 336,
   "metadata": {},
   "outputs": [
    {
     "name": "stdout",
     "output_type": "stream",
     "text": [
      "name               0\n",
      "propertyId         0\n",
      "checkIn            0\n",
      "checkOut           0\n",
      "stars              0\n",
      "score           4446\n",
      "advance            0\n",
      "netPrice           0\n",
      "propertyType       0\n",
      "longitude          0\n",
      "latitude           0\n",
      "district           0\n",
      "dtype: int64\n"
     ]
    }
   ],
   "source": [
    "# Checking for null values in the dataset\n",
    "print(df_properties.isnull().sum())"
   ]
  },
  {
   "cell_type": "code",
   "execution_count": 337,
   "metadata": {},
   "outputs": [],
   "source": [
    "# Casting longitude and latitude as float\n",
    "df_properties['longitude'] = df_properties.longitude.astype('float32')\n",
    "df_properties['latitude'] = df_properties.latitude.astype('float32')"
   ]
  },
  {
   "cell_type": "code",
   "execution_count": 348,
   "metadata": {},
   "outputs": [],
   "source": [
    "# Converts the first character of each word to upper case\n",
    "df_properties['name'] = df_properties['name'].str.title()"
   ]
  },
  {
   "cell_type": "markdown",
   "metadata": {},
   "source": [
    "### Adding columns"
   ]
  },
  {
   "cell_type": "code",
   "execution_count": 349,
   "metadata": {},
   "outputs": [],
   "source": [
    "df_properties['weekday'] = df_properties.checkIn.dt.weekday_name\n",
    "df_properties['month'] = df_properties.checkIn.dt.strftime(\"%B\")"
   ]
  },
  {
   "cell_type": "markdown",
   "metadata": {},
   "source": [
    "### Sorting data"
   ]
  },
  {
   "cell_type": "code",
   "execution_count": 350,
   "metadata": {},
   "outputs": [],
   "source": [
    "# Sorting data by propertyId and checkIn date\n",
    "df_properties.sort_values(by=['propertyId','checkIn'], inplace=True)\n",
    "#df_properties.sort_values(by=['propertyId'], inplace=True)"
   ]
  },
  {
   "cell_type": "code",
   "execution_count": 351,
   "metadata": {},
   "outputs": [
    {
     "data": {
      "text/html": [
       "<div>\n",
       "<style scoped>\n",
       "    .dataframe tbody tr th:only-of-type {\n",
       "        vertical-align: middle;\n",
       "    }\n",
       "\n",
       "    .dataframe tbody tr th {\n",
       "        vertical-align: top;\n",
       "    }\n",
       "\n",
       "    .dataframe thead th {\n",
       "        text-align: right;\n",
       "    }\n",
       "</style>\n",
       "<table border=\"1\" class=\"dataframe\">\n",
       "  <thead>\n",
       "    <tr style=\"text-align: right;\">\n",
       "      <th></th>\n",
       "      <th>name</th>\n",
       "      <th>propertyId</th>\n",
       "      <th>checkIn</th>\n",
       "      <th>checkOut</th>\n",
       "      <th>stars</th>\n",
       "      <th>score</th>\n",
       "      <th>advance</th>\n",
       "      <th>netPrice</th>\n",
       "      <th>propertyType</th>\n",
       "      <th>longitude</th>\n",
       "      <th>latitude</th>\n",
       "      <th>district</th>\n",
       "      <th>weekday</th>\n",
       "      <th>month</th>\n",
       "    </tr>\n",
       "  </thead>\n",
       "  <tbody>\n",
       "    <tr>\n",
       "      <th>40494</th>\n",
       "      <td>Sol Playa</td>\n",
       "      <td>12656</td>\n",
       "      <td>2019-07-30</td>\n",
       "      <td>2019-07-31</td>\n",
       "      <td>2 star</td>\n",
       "      <td>8.3</td>\n",
       "      <td>7.0</td>\n",
       "      <td>85.0</td>\n",
       "      <td>Hotel</td>\n",
       "      <td>-0.3238</td>\n",
       "      <td>39.4651</td>\n",
       "      <td>Poblados marítimos</td>\n",
       "      <td>Tuesday</td>\n",
       "      <td>July</td>\n",
       "    </tr>\n",
       "    <tr>\n",
       "      <th>40498</th>\n",
       "      <td>Sol Playa</td>\n",
       "      <td>12656</td>\n",
       "      <td>2019-07-31</td>\n",
       "      <td>2019-08-01</td>\n",
       "      <td>2 star</td>\n",
       "      <td>8.3</td>\n",
       "      <td>7.0</td>\n",
       "      <td>85.0</td>\n",
       "      <td>Hotel</td>\n",
       "      <td>-0.3238</td>\n",
       "      <td>39.4651</td>\n",
       "      <td>Poblados marítimos</td>\n",
       "      <td>Wednesday</td>\n",
       "      <td>July</td>\n",
       "    </tr>\n",
       "    <tr>\n",
       "      <th>40502</th>\n",
       "      <td>Sol Playa</td>\n",
       "      <td>12656</td>\n",
       "      <td>2019-08-01</td>\n",
       "      <td>2019-08-02</td>\n",
       "      <td>2 star</td>\n",
       "      <td>8.3</td>\n",
       "      <td>7.0</td>\n",
       "      <td>103.0</td>\n",
       "      <td>Hotel</td>\n",
       "      <td>-0.3238</td>\n",
       "      <td>39.4651</td>\n",
       "      <td>Poblados marítimos</td>\n",
       "      <td>Thursday</td>\n",
       "      <td>August</td>\n",
       "    </tr>\n",
       "    <tr>\n",
       "      <th>40513</th>\n",
       "      <td>Sol Playa</td>\n",
       "      <td>12656</td>\n",
       "      <td>2019-08-04</td>\n",
       "      <td>2019-08-05</td>\n",
       "      <td>2 star</td>\n",
       "      <td>8.3</td>\n",
       "      <td>7.0</td>\n",
       "      <td>94.0</td>\n",
       "      <td>Hotel</td>\n",
       "      <td>-0.3238</td>\n",
       "      <td>39.4651</td>\n",
       "      <td>Poblados marítimos</td>\n",
       "      <td>Sunday</td>\n",
       "      <td>August</td>\n",
       "    </tr>\n",
       "    <tr>\n",
       "      <th>40503</th>\n",
       "      <td>Sol Playa</td>\n",
       "      <td>12656</td>\n",
       "      <td>2019-08-08</td>\n",
       "      <td>2019-08-09</td>\n",
       "      <td>2 star</td>\n",
       "      <td>8.3</td>\n",
       "      <td>14.0</td>\n",
       "      <td>160.0</td>\n",
       "      <td>Hotel</td>\n",
       "      <td>-0.3238</td>\n",
       "      <td>39.4651</td>\n",
       "      <td>Poblados marítimos</td>\n",
       "      <td>Thursday</td>\n",
       "      <td>August</td>\n",
       "    </tr>\n",
       "    <tr>\n",
       "      <th>40527</th>\n",
       "      <td>Sol Playa</td>\n",
       "      <td>12656</td>\n",
       "      <td>2019-08-08</td>\n",
       "      <td>2019-08-09</td>\n",
       "      <td>2 star</td>\n",
       "      <td>8.3</td>\n",
       "      <td>7.0</td>\n",
       "      <td>155.0</td>\n",
       "      <td>Hotel</td>\n",
       "      <td>-0.3238</td>\n",
       "      <td>39.4651</td>\n",
       "      <td>Poblados marítimos</td>\n",
       "      <td>Thursday</td>\n",
       "      <td>August</td>\n",
       "    </tr>\n",
       "    <tr>\n",
       "      <th>40516</th>\n",
       "      <td>Sol Playa</td>\n",
       "      <td>12656</td>\n",
       "      <td>2019-08-12</td>\n",
       "      <td>2019-08-13</td>\n",
       "      <td>2 star</td>\n",
       "      <td>8.3</td>\n",
       "      <td>14.0</td>\n",
       "      <td>100.0</td>\n",
       "      <td>Hotel</td>\n",
       "      <td>-0.3238</td>\n",
       "      <td>39.4651</td>\n",
       "      <td>Poblados marítimos</td>\n",
       "      <td>Monday</td>\n",
       "      <td>August</td>\n",
       "    </tr>\n",
       "    <tr>\n",
       "      <th>40542</th>\n",
       "      <td>Sol Playa</td>\n",
       "      <td>12656</td>\n",
       "      <td>2019-08-12</td>\n",
       "      <td>2019-08-13</td>\n",
       "      <td>2 star</td>\n",
       "      <td>8.3</td>\n",
       "      <td>7.0</td>\n",
       "      <td>94.0</td>\n",
       "      <td>Hotel</td>\n",
       "      <td>-0.3238</td>\n",
       "      <td>39.4651</td>\n",
       "      <td>Poblados marítimos</td>\n",
       "      <td>Monday</td>\n",
       "      <td>August</td>\n",
       "    </tr>\n",
       "    <tr>\n",
       "      <th>40546</th>\n",
       "      <td>Sol Playa</td>\n",
       "      <td>12656</td>\n",
       "      <td>2019-08-13</td>\n",
       "      <td>2019-08-14</td>\n",
       "      <td>2 star</td>\n",
       "      <td>8.3</td>\n",
       "      <td>7.0</td>\n",
       "      <td>132.0</td>\n",
       "      <td>Hotel</td>\n",
       "      <td>-0.3238</td>\n",
       "      <td>39.4651</td>\n",
       "      <td>Poblados marítimos</td>\n",
       "      <td>Tuesday</td>\n",
       "      <td>August</td>\n",
       "    </tr>\n",
       "    <tr>\n",
       "      <th>40523</th>\n",
       "      <td>Sol Playa</td>\n",
       "      <td>12656</td>\n",
       "      <td>2019-08-14</td>\n",
       "      <td>2019-08-15</td>\n",
       "      <td>2 star</td>\n",
       "      <td>8.3</td>\n",
       "      <td>14.0</td>\n",
       "      <td>141.0</td>\n",
       "      <td>Hotel</td>\n",
       "      <td>-0.3238</td>\n",
       "      <td>39.4651</td>\n",
       "      <td>Poblados marítimos</td>\n",
       "      <td>Wednesday</td>\n",
       "      <td>August</td>\n",
       "    </tr>\n",
       "  </tbody>\n",
       "</table>\n",
       "</div>"
      ],
      "text/plain": [
       "            name  propertyId    checkIn   checkOut   stars  score  advance  \\\n",
       "40494  Sol Playa       12656 2019-07-30 2019-07-31  2 star    8.3      7.0   \n",
       "40498  Sol Playa       12656 2019-07-31 2019-08-01  2 star    8.3      7.0   \n",
       "40502  Sol Playa       12656 2019-08-01 2019-08-02  2 star    8.3      7.0   \n",
       "40513  Sol Playa       12656 2019-08-04 2019-08-05  2 star    8.3      7.0   \n",
       "40503  Sol Playa       12656 2019-08-08 2019-08-09  2 star    8.3     14.0   \n",
       "40527  Sol Playa       12656 2019-08-08 2019-08-09  2 star    8.3      7.0   \n",
       "40516  Sol Playa       12656 2019-08-12 2019-08-13  2 star    8.3     14.0   \n",
       "40542  Sol Playa       12656 2019-08-12 2019-08-13  2 star    8.3      7.0   \n",
       "40546  Sol Playa       12656 2019-08-13 2019-08-14  2 star    8.3      7.0   \n",
       "40523  Sol Playa       12656 2019-08-14 2019-08-15  2 star    8.3     14.0   \n",
       "\n",
       "       netPrice propertyType  longitude  latitude            district  \\\n",
       "40494      85.0        Hotel    -0.3238   39.4651  Poblados marítimos   \n",
       "40498      85.0        Hotel    -0.3238   39.4651  Poblados marítimos   \n",
       "40502     103.0        Hotel    -0.3238   39.4651  Poblados marítimos   \n",
       "40513      94.0        Hotel    -0.3238   39.4651  Poblados marítimos   \n",
       "40503     160.0        Hotel    -0.3238   39.4651  Poblados marítimos   \n",
       "40527     155.0        Hotel    -0.3238   39.4651  Poblados marítimos   \n",
       "40516     100.0        Hotel    -0.3238   39.4651  Poblados marítimos   \n",
       "40542      94.0        Hotel    -0.3238   39.4651  Poblados marítimos   \n",
       "40546     132.0        Hotel    -0.3238   39.4651  Poblados marítimos   \n",
       "40523     141.0        Hotel    -0.3238   39.4651  Poblados marítimos   \n",
       "\n",
       "         weekday   month  \n",
       "40494    Tuesday    July  \n",
       "40498  Wednesday    July  \n",
       "40502   Thursday  August  \n",
       "40513     Sunday  August  \n",
       "40503   Thursday  August  \n",
       "40527   Thursday  August  \n",
       "40516     Monday  August  \n",
       "40542     Monday  August  \n",
       "40546    Tuesday  August  \n",
       "40523  Wednesday  August  "
      ]
     },
     "execution_count": 351,
     "metadata": {},
     "output_type": "execute_result"
    }
   ],
   "source": [
    "df_properties.head(10)"
   ]
  },
  {
   "cell_type": "code",
   "execution_count": 340,
   "metadata": {},
   "outputs": [],
   "source": [
    "# Eliminate attribute name NaN\n",
    "#df_properties = df_properties[pd.notnull(df_properties['name'])]\n",
    "# Eliminate attribute netPrice NaN\n",
    "#df_properties = df_properties[pd.notnull(df_properties['netPrice'])]"
   ]
  },
  {
   "cell_type": "code",
   "execution_count": 341,
   "metadata": {},
   "outputs": [],
   "source": [
    "df_properties.drop_duplicates(keep='first', inplace=True)"
   ]
  },
  {
   "cell_type": "code",
   "execution_count": 342,
   "metadata": {},
   "outputs": [
    {
     "name": "stdout",
     "output_type": "stream",
     "text": [
      "Shape of data: (68212, 12)\n"
     ]
    }
   ],
   "source": [
    "print(\"Shape of data: {}\".format(df_properties.shape))"
   ]
  },
  {
   "cell_type": "code",
   "execution_count": 343,
   "metadata": {},
   "outputs": [],
   "source": [
    "#df_properties.info()"
   ]
  },
  {
   "cell_type": "code",
   "execution_count": 344,
   "metadata": {},
   "outputs": [
    {
     "data": {
      "text/html": [
       "<div>\n",
       "<style scoped>\n",
       "    .dataframe tbody tr th:only-of-type {\n",
       "        vertical-align: middle;\n",
       "    }\n",
       "\n",
       "    .dataframe tbody tr th {\n",
       "        vertical-align: top;\n",
       "    }\n",
       "\n",
       "    .dataframe thead th {\n",
       "        text-align: right;\n",
       "    }\n",
       "</style>\n",
       "<table border=\"1\" class=\"dataframe\">\n",
       "  <thead>\n",
       "    <tr style=\"text-align: right;\">\n",
       "      <th></th>\n",
       "      <th>propertyId</th>\n",
       "      <th>score</th>\n",
       "      <th>advance</th>\n",
       "      <th>netPrice</th>\n",
       "      <th>longitude</th>\n",
       "      <th>latitude</th>\n",
       "    </tr>\n",
       "  </thead>\n",
       "  <tbody>\n",
       "    <tr>\n",
       "      <th>count</th>\n",
       "      <td>6.8212e+04</td>\n",
       "      <td>63808.0000</td>\n",
       "      <td>68212.0000</td>\n",
       "      <td>68212.0000</td>\n",
       "      <td>68212.0000</td>\n",
       "      <td>68212.0000</td>\n",
       "    </tr>\n",
       "    <tr>\n",
       "      <th>mean</th>\n",
       "      <td>2.1820e+06</td>\n",
       "      <td>8.2702</td>\n",
       "      <td>44.2675</td>\n",
       "      <td>117.0085</td>\n",
       "      <td>-0.3724</td>\n",
       "      <td>39.4909</td>\n",
       "    </tr>\n",
       "    <tr>\n",
       "      <th>std</th>\n",
       "      <td>1.8013e+06</td>\n",
       "      <td>0.9502</td>\n",
       "      <td>31.3962</td>\n",
       "      <td>83.4763</td>\n",
       "      <td>0.0294</td>\n",
       "      <td>0.0266</td>\n",
       "    </tr>\n",
       "    <tr>\n",
       "      <th>min</th>\n",
       "      <td>1.2656e+04</td>\n",
       "      <td>3.3000</td>\n",
       "      <td>7.0000</td>\n",
       "      <td>1.0200</td>\n",
       "      <td>-0.7780</td>\n",
       "      <td>38.9126</td>\n",
       "    </tr>\n",
       "    <tr>\n",
       "      <th>25%</th>\n",
       "      <td>3.2492e+05</td>\n",
       "      <td>7.8000</td>\n",
       "      <td>14.0000</td>\n",
       "      <td>69.0000</td>\n",
       "      <td>-0.3804</td>\n",
       "      <td>39.4644</td>\n",
       "    </tr>\n",
       "    <tr>\n",
       "      <th>50%</th>\n",
       "      <td>2.0063e+06</td>\n",
       "      <td>8.4000</td>\n",
       "      <td>30.0000</td>\n",
       "      <td>99.0000</td>\n",
       "      <td>-0.3759</td>\n",
       "      <td>39.4715</td>\n",
       "    </tr>\n",
       "    <tr>\n",
       "      <th>75%</th>\n",
       "      <td>3.7998e+06</td>\n",
       "      <td>8.9000</td>\n",
       "      <td>60.0000</td>\n",
       "      <td>139.0000</td>\n",
       "      <td>-0.3646</td>\n",
       "      <td>39.4757</td>\n",
       "    </tr>\n",
       "    <tr>\n",
       "      <th>max</th>\n",
       "      <td>5.5603e+06</td>\n",
       "      <td>10.0000</td>\n",
       "      <td>90.0000</td>\n",
       "      <td>999.0000</td>\n",
       "      <td>-0.1426</td>\n",
       "      <td>39.6495</td>\n",
       "    </tr>\n",
       "  </tbody>\n",
       "</table>\n",
       "</div>"
      ],
      "text/plain": [
       "       propertyId       score     advance    netPrice   longitude    latitude\n",
       "count  6.8212e+04  63808.0000  68212.0000  68212.0000  68212.0000  68212.0000\n",
       "mean   2.1820e+06      8.2702     44.2675    117.0085     -0.3724     39.4909\n",
       "std    1.8013e+06      0.9502     31.3962     83.4763      0.0294      0.0266\n",
       "min    1.2656e+04      3.3000      7.0000      1.0200     -0.7780     38.9126\n",
       "25%    3.2492e+05      7.8000     14.0000     69.0000     -0.3804     39.4644\n",
       "50%    2.0063e+06      8.4000     30.0000     99.0000     -0.3759     39.4715\n",
       "75%    3.7998e+06      8.9000     60.0000    139.0000     -0.3646     39.4757\n",
       "max    5.5603e+06     10.0000     90.0000    999.0000     -0.1426     39.6495"
      ]
     },
     "execution_count": 344,
     "metadata": {},
     "output_type": "execute_result"
    }
   ],
   "source": [
    "#df_properties.describe(include=\"all\")\n",
    "df_properties.describe()"
   ]
  },
  {
   "cell_type": "markdown",
   "metadata": {},
   "source": [
    "Mean Price: 119,63€  \n",
    "Min Price: 1.1180 ?  \n",
    "Max Price: 999 ?"
   ]
  },
  {
   "cell_type": "code",
   "execution_count": 345,
   "metadata": {},
   "outputs": [],
   "source": [
    "#minPrice = df_properties['netPrice'].idxmin()\n",
    "#maxPrice = df_properties['netPrice'].idxmax()"
   ]
  },
  {
   "cell_type": "code",
   "execution_count": 346,
   "metadata": {},
   "outputs": [
    {
     "name": "stdout",
     "output_type": "stream",
     "text": [
      "Shape of data: 68577\n"
     ]
    }
   ],
   "source": [
    "#print(\"Shape of data: {}\".format(minPrice))"
   ]
  },
  {
   "cell_type": "code",
   "execution_count": 352,
   "metadata": {},
   "outputs": [],
   "source": [
    "# Selection by position\n",
    "#df_properties.loc[[minPrice]]"
   ]
  },
  {
   "cell_type": "code",
   "execution_count": 353,
   "metadata": {},
   "outputs": [
    {
     "name": "stdout",
     "output_type": "stream",
     "text": [
      "name               0\n",
      "propertyId         0\n",
      "checkIn            0\n",
      "checkOut           0\n",
      "stars              0\n",
      "score           4404\n",
      "advance            0\n",
      "netPrice           0\n",
      "propertyType       0\n",
      "longitude          0\n",
      "latitude           0\n",
      "district           0\n",
      "weekday            0\n",
      "month              0\n",
      "dtype: int64\n"
     ]
    }
   ],
   "source": [
    "# Check for null values in the dataset\n",
    "print(df_properties.isnull().sum())"
   ]
  },
  {
   "cell_type": "code",
   "execution_count": 355,
   "metadata": {},
   "outputs": [
    {
     "data": {
      "image/png": "[encoded data removed]",
      "text/plain": [
       "<Figure size 864x432 with 1 Axes>"
      ]
     },
     "metadata": {
      "needs_background": "light"
     },
     "output_type": "display_data"
    }
   ],
   "source": [
    "# Time Series Visualizations\n",
    "df_properties.plot(x='checkIn', y='netPrice', figsize=(12,6))\n",
    "plt.xlabel('Date time')\n",
    "plt.ylabel('Price in EUR')\n",
    "plt.title('Time Series of room price by date time of search');"
   ]
  },
  {
   "cell_type": "markdown",
   "metadata": {},
   "source": [
    "### Hotels"
   ]
  },
  {
   "cell_type": "code",
   "execution_count": 368,
   "metadata": {},
   "outputs": [
    {
     "name": "stdout",
     "output_type": "stream",
     "text": [
      "Observations per Hotel: \n",
      "\n",
      "Hotel Malcom And Barret                   228\n",
      "Hotel Kramer                              227\n",
      "Md Modern Hotel - Jardines                227\n",
      "Vincci Palace                             225\n",
      "Vincci Lys                                225\n",
      "                                         ... \n",
      "Hotel Gabbeach                             85\n",
      "Nest Style Valencia -Nueva Apertura-       79\n",
      "Nest Style Valencia -Proxima Apertura-     69\n",
      "Valencia Suits You Citytel                 36\n",
      "Hotel Cosmo                                 4\n",
      "Name: name, Length: 89, dtype: int64\n"
     ]
    }
   ],
   "source": [
    "df_hotels = df_properties.query(\"propertyType=='Hotel'\")\n",
    "print(\"Observations per Hotel: \\n\\n{}\".format(df_hotels.name.value_counts()))"
   ]
  },
  {
   "cell_type": "code",
   "execution_count": 379,
   "metadata": {},
   "outputs": [
    {
     "name": "stdout",
     "output_type": "stream",
     "text": [
      "Number of hotels analysed: 89\n"
     ]
    }
   ],
   "source": [
    "print(\"Number of hotels analysed: {}\".format(pd.unique(df_hotels.name).size))"
   ]
  },
  {
   "cell_type": "code",
   "execution_count": 372,
   "metadata": {},
   "outputs": [
    {
     "name": "stdout",
     "output_type": "stream",
     "text": [
      "Number of days analysed: 130\n"
     ]
    }
   ],
   "source": [
    "print(\"Number of days analysed: {}\".format(pd.unique(df_hotels.checkIn).size))"
   ]
  },
  {
   "cell_type": "code",
   "execution_count": 387,
   "metadata": {},
   "outputs": [
    {
     "name": "stdout",
     "output_type": "stream",
     "text": [
      "Range days analysed: from 2019-07-29 00:00:00 to 2019-12-06 00:00:00\n"
     ]
    }
   ],
   "source": [
    "print(\"Range days analysed: from {} to {}\".format(df_hotels.checkIn.min(), df_hotels.checkIn.max()))"
   ]
  },
  {
   "cell_type": "code",
   "execution_count": 381,
   "metadata": {},
   "outputs": [
    {
     "data": {
      "text/plain": [
       "checkIn\n",
       "2019-07-29     35\n",
       "2019-07-30     80\n",
       "2019-07-31     77\n",
       "2019-08-01     81\n",
       "2019-08-02     75\n",
       "2019-08-03     63\n",
       "2019-08-04     83\n",
       "2019-08-05    106\n",
       "2019-08-06    150\n",
       "2019-08-07    150\n",
       "dtype: int64"
      ]
     },
     "execution_count": 381,
     "metadata": {},
     "output_type": "execute_result"
    }
   ],
   "source": [
    "# Prices analysed per day\n",
    "by_day = df_hotels.groupby(\"checkIn\").size()\n",
    "by_day.head(10)"
   ]
  },
  {
   "cell_type": "code",
   "execution_count": 380,
   "metadata": {},
   "outputs": [
    {
     "data": {
      "image/png": "[encoded data removed]",
      "text/plain": [
       "<Figure size 842.4x595.44 with 1 Axes>"
      ]
     },
     "metadata": {
      "needs_background": "light"
     },
     "output_type": "display_data"
    }
   ],
   "source": [
    "by_day.plot();"
   ]
  },
  {
   "cell_type": "markdown",
   "metadata": {},
   "source": [
    "### Hotel Las Arenas"
   ]
  },
  {
   "cell_type": "code",
   "execution_count": 390,
   "metadata": {},
   "outputs": [
    {
     "data": {
      "text/html": [
       "<div>\n",
       "<style scoped>\n",
       "    .dataframe tbody tr th:only-of-type {\n",
       "        vertical-align: middle;\n",
       "    }\n",
       "\n",
       "    .dataframe tbody tr th {\n",
       "        vertical-align: top;\n",
       "    }\n",
       "\n",
       "    .dataframe thead th {\n",
       "        text-align: right;\n",
       "    }\n",
       "</style>\n",
       "<table border=\"1\" class=\"dataframe\">\n",
       "  <thead>\n",
       "    <tr style=\"text-align: right;\">\n",
       "      <th></th>\n",
       "      <th>name</th>\n",
       "      <th>propertyId</th>\n",
       "      <th>checkIn</th>\n",
       "      <th>checkOut</th>\n",
       "      <th>stars</th>\n",
       "      <th>score</th>\n",
       "      <th>advance</th>\n",
       "      <th>netPrice</th>\n",
       "      <th>propertyType</th>\n",
       "      <th>longitude</th>\n",
       "      <th>latitude</th>\n",
       "      <th>district</th>\n",
       "      <th>weekday</th>\n",
       "      <th>month</th>\n",
       "    </tr>\n",
       "  </thead>\n",
       "  <tbody>\n",
       "    <tr>\n",
       "      <th>58334</th>\n",
       "      <td>Las Arenas Balneario Resort</td>\n",
       "      <td>91144</td>\n",
       "      <td>2019-07-30</td>\n",
       "      <td>2019-07-31</td>\n",
       "      <td>5 star</td>\n",
       "      <td>9.0</td>\n",
       "      <td>7.0</td>\n",
       "      <td>297.0</td>\n",
       "      <td>Hotel</td>\n",
       "      <td>-0.3247</td>\n",
       "      <td>39.4664</td>\n",
       "      <td>Poblados marítimos</td>\n",
       "      <td>Tuesday</td>\n",
       "      <td>July</td>\n",
       "    </tr>\n",
       "    <tr>\n",
       "      <th>58338</th>\n",
       "      <td>Las Arenas Balneario Resort</td>\n",
       "      <td>91144</td>\n",
       "      <td>2019-07-31</td>\n",
       "      <td>2019-08-01</td>\n",
       "      <td>5 star</td>\n",
       "      <td>9.0</td>\n",
       "      <td>7.0</td>\n",
       "      <td>297.0</td>\n",
       "      <td>Hotel</td>\n",
       "      <td>-0.3247</td>\n",
       "      <td>39.4664</td>\n",
       "      <td>Poblados marítimos</td>\n",
       "      <td>Wednesday</td>\n",
       "      <td>July</td>\n",
       "    </tr>\n",
       "    <tr>\n",
       "      <th>58343</th>\n",
       "      <td>Las Arenas Balneario Resort</td>\n",
       "      <td>91144</td>\n",
       "      <td>2019-08-01</td>\n",
       "      <td>2019-08-02</td>\n",
       "      <td>5 star</td>\n",
       "      <td>9.0</td>\n",
       "      <td>7.0</td>\n",
       "      <td>297.0</td>\n",
       "      <td>Hotel</td>\n",
       "      <td>-0.3247</td>\n",
       "      <td>39.4664</td>\n",
       "      <td>Poblados marítimos</td>\n",
       "      <td>Thursday</td>\n",
       "      <td>August</td>\n",
       "    </tr>\n",
       "    <tr>\n",
       "      <th>58347</th>\n",
       "      <td>Las Arenas Balneario Resort</td>\n",
       "      <td>91144</td>\n",
       "      <td>2019-08-02</td>\n",
       "      <td>2019-08-03</td>\n",
       "      <td>5 star</td>\n",
       "      <td>9.0</td>\n",
       "      <td>7.0</td>\n",
       "      <td>297.0</td>\n",
       "      <td>Hotel</td>\n",
       "      <td>-0.3247</td>\n",
       "      <td>39.4664</td>\n",
       "      <td>Poblados marítimos</td>\n",
       "      <td>Friday</td>\n",
       "      <td>August</td>\n",
       "    </tr>\n",
       "    <tr>\n",
       "      <th>58354</th>\n",
       "      <td>Las Arenas Balneario Resort</td>\n",
       "      <td>91144</td>\n",
       "      <td>2019-08-04</td>\n",
       "      <td>2019-08-05</td>\n",
       "      <td>5 star</td>\n",
       "      <td>9.0</td>\n",
       "      <td>7.0</td>\n",
       "      <td>297.0</td>\n",
       "      <td>Hotel</td>\n",
       "      <td>-0.3247</td>\n",
       "      <td>39.4664</td>\n",
       "      <td>Poblados marítimos</td>\n",
       "      <td>Sunday</td>\n",
       "      <td>August</td>\n",
       "    </tr>\n",
       "  </tbody>\n",
       "</table>\n",
       "</div>"
      ],
      "text/plain": [
       "                              name  propertyId    checkIn   checkOut   stars  \\\n",
       "58334  Las Arenas Balneario Resort       91144 2019-07-30 2019-07-31  5 star   \n",
       "58338  Las Arenas Balneario Resort       91144 2019-07-31 2019-08-01  5 star   \n",
       "58343  Las Arenas Balneario Resort       91144 2019-08-01 2019-08-02  5 star   \n",
       "58347  Las Arenas Balneario Resort       91144 2019-08-02 2019-08-03  5 star   \n",
       "58354  Las Arenas Balneario Resort       91144 2019-08-04 2019-08-05  5 star   \n",
       "\n",
       "       score  advance  netPrice propertyType  longitude  latitude  \\\n",
       "58334    9.0      7.0     297.0        Hotel    -0.3247   39.4664   \n",
       "58338    9.0      7.0     297.0        Hotel    -0.3247   39.4664   \n",
       "58343    9.0      7.0     297.0        Hotel    -0.3247   39.4664   \n",
       "58347    9.0      7.0     297.0        Hotel    -0.3247   39.4664   \n",
       "58354    9.0      7.0     297.0        Hotel    -0.3247   39.4664   \n",
       "\n",
       "                 district    weekday   month  \n",
       "58334  Poblados marítimos    Tuesday    July  \n",
       "58338  Poblados marítimos  Wednesday    July  \n",
       "58343  Poblados marítimos   Thursday  August  \n",
       "58347  Poblados marítimos     Friday  August  \n",
       "58354  Poblados marítimos     Sunday  August  "
      ]
     },
     "execution_count": 390,
     "metadata": {},
     "output_type": "execute_result"
    }
   ],
   "source": [
    "df_LasArenas = df_properties.query(\"propertyId==91144\")\n",
    "df_LasArenas.head(5)"
   ]
  },
  {
   "cell_type": "code",
   "execution_count": 391,
   "metadata": {},
   "outputs": [
    {
     "data": {
      "text/plain": [
       "count    196.0000\n",
       "mean     257.7143\n",
       "std       94.8559\n",
       "min      135.0000\n",
       "25%      198.0000\n",
       "50%      257.0000\n",
       "75%      288.0000\n",
       "max      851.0000\n",
       "Name: netPrice, dtype: float64"
      ]
     },
     "execution_count": 391,
     "metadata": {},
     "output_type": "execute_result"
    }
   ],
   "source": [
    "df_LasArenas['netPrice'].describe()"
   ]
  },
  {
   "cell_type": "code",
   "execution_count": 392,
   "metadata": {},
   "outputs": [
    {
     "data": {
      "image/png": "[encoded data removed]",
      "text/plain": [
       "<Figure size 864x432 with 1 Axes>"
      ]
     },
     "metadata": {
      "needs_background": "light"
     },
     "output_type": "display_data"
    }
   ],
   "source": [
    "# Time Series Visualizations\n",
    "#plt.set(xlim=(0, 900))\n",
    "df_LasArenas.plot(x='checkIn', y='netPrice', figsize=(12,6))\n",
    "plt.xlabel('Date time')\n",
    "plt.ylabel('Price in EUR')\n",
    "plt.title('Time Series of room price by date time of search');"
   ]
  },
  {
   "cell_type": "code",
   "execution_count": 393,
   "metadata": {},
   "outputs": [
    {
     "data": {
      "text/plain": [
       "851.0"
      ]
     },
     "execution_count": 393,
     "metadata": {},
     "output_type": "execute_result"
    }
   ],
   "source": [
    "df_LasArenas.netPrice.max()"
   ]
  },
  {
   "cell_type": "code",
   "execution_count": 388,
   "metadata": {},
   "outputs": [
    {
     "data": {
      "text/plain": [
       "numpy.ndarray"
      ]
     },
     "execution_count": 388,
     "metadata": {},
     "output_type": "execute_result"
    }
   ],
   "source": [
    "#ff = pd.unique(df_hotels.checkIn)\n",
    "#ff"
   ]
  },
  {
   "cell_type": "code",
   "execution_count": 324,
   "metadata": {},
   "outputs": [],
   "source": [
    "# Assign known district to some Hotels\n",
    "hotels_df['district'].loc[(hotels_df['name']=='Sercotel Sorolla Palace')] = 'Benicalap'\n",
    "hotels_df['district'].loc[(hotels_df['name']=='Silken Puerta Valencia')] = 'Camins al Grau'\n",
    "hotels_df['district'].loc[(hotels_df['name']=='Tryp Valencia Feria')] = 'Benicalap'\n",
    "hotels_df['district'].loc[(hotels_df['name']=='Hotel Beleret')] = 'Benicalap'\n",
    "hotels_df['district'].loc[(hotels_df['name']=='You & Co. Saler Beach Boutique')] = 'El Saler'"
   ]
  },
  {
   "cell_type": "markdown",
   "metadata": {},
   "source": [
    "### Weekday"
   ]
  },
  {
   "cell_type": "code",
   "execution_count": 325,
   "metadata": {},
   "outputs": [],
   "source": [
    "weekday_names = [\"Monday\",\"Tuesday\",\"Wednesday\",\"Thursday\",\"Friday\",\"Saturday\",\"Sunday\"]\n",
    "weekday_mean = hotels_df[[\"weekday\", \"netPrice\"]].groupby(\"weekday\").mean()"
   ]
  },
  {
   "cell_type": "code",
   "execution_count": 326,
   "metadata": {},
   "outputs": [
    {
     "data": {
      "text/plain": [
       "weekday\n",
       "Monday       108.7545\n",
       "Tuesday      116.9722\n",
       "Wednesday    119.1427\n",
       "Thursday     120.3052\n",
       "Friday       131.4960\n",
       "Saturday     135.3995\n",
       "Sunday       100.8631\n",
       "Name: netPrice, dtype: float32"
      ]
     },
     "execution_count": 326,
     "metadata": {},
     "output_type": "execute_result"
    }
   ],
   "source": [
    "# To be ordered by weekday\n",
    "weekday_mean = weekday_mean.loc[weekday_names]\n",
    "weekday_mean.netPrice"
   ]
  },
  {
   "cell_type": "code",
   "execution_count": 327,
   "metadata": {},
   "outputs": [
    {
     "name": "stdout",
     "output_type": "stream",
     "text": [
      "<class 'pandas.core.frame.DataFrame'>\n",
      "Index: 7 entries, Monday to Sunday\n",
      "Data columns (total 1 columns):\n",
      "netPrice    7 non-null float32\n",
      "dtypes: float32(1)\n",
      "memory usage: 404.0+ bytes\n"
     ]
    }
   ],
   "source": [
    "weekday_mean.info()"
   ]
  },
  {
   "cell_type": "code",
   "execution_count": 329,
   "metadata": {},
   "outputs": [
    {
     "data": {
      "image/png": "[encoded data removed]",
      "text/plain": [
       "<Figure size 842.4x595.44 with 1 Axes>"
      ]
     },
     "metadata": {
      "needs_background": "light"
     },
     "output_type": "display_data"
    }
   ],
   "source": [
    "fig = weekday_mean.netPrice.plot(kind=\"barh\", fig=(6,4));\n",
    "#sns.barplot(y=\"netPrice\", data=weekday_mean)\n",
    "fig.set_title('Average price by Weekday')\n",
    "plt.xlabel(\"Weekday\")\n",
    "plt.ylabel(\"Price\")\n",
    "plt.show(fig)\n",
    "# TODO: print mean"
   ]
  },
  {
   "cell_type": "code",
   "execution_count": 330,
   "metadata": {},
   "outputs": [],
   "source": [
    "month_names = [\"January\",\"February\",\"March\",\"April\",\"May\",\"June\",\"July\",\"August\",\"September\",\"October\",\"November\",\"December\"]\n",
    "month_mean = hotels_df.groupby(\"month\").mean()\n",
    "# To be ordered by weekday\n",
    "month_mean = month_mean.loc[month_names]"
   ]
  },
  {
   "cell_type": "code",
   "execution_count": 331,
   "metadata": {},
   "outputs": [
    {
     "data": {
      "text/html": [
       "<div>\n",
       "<style scoped>\n",
       "    .dataframe tbody tr th:only-of-type {\n",
       "        vertical-align: middle;\n",
       "    }\n",
       "\n",
       "    .dataframe tbody tr th {\n",
       "        vertical-align: top;\n",
       "    }\n",
       "\n",
       "    .dataframe thead th {\n",
       "        text-align: right;\n",
       "    }\n",
       "</style>\n",
       "<table border=\"1\" class=\"dataframe\">\n",
       "  <thead>\n",
       "    <tr style=\"text-align: right;\">\n",
       "      <th></th>\n",
       "      <th>score</th>\n",
       "      <th>advance</th>\n",
       "      <th>netPrice</th>\n",
       "      <th>longitude</th>\n",
       "      <th>latitude</th>\n",
       "    </tr>\n",
       "    <tr>\n",
       "      <th>month</th>\n",
       "      <th></th>\n",
       "      <th></th>\n",
       "      <th></th>\n",
       "      <th></th>\n",
       "      <th></th>\n",
       "    </tr>\n",
       "  </thead>\n",
       "  <tbody>\n",
       "    <tr>\n",
       "      <th>January</th>\n",
       "      <td>NaN</td>\n",
       "      <td>NaN</td>\n",
       "      <td>NaN</td>\n",
       "      <td>NaN</td>\n",
       "      <td>NaN</td>\n",
       "    </tr>\n",
       "    <tr>\n",
       "      <th>February</th>\n",
       "      <td>NaN</td>\n",
       "      <td>NaN</td>\n",
       "      <td>NaN</td>\n",
       "      <td>NaN</td>\n",
       "      <td>NaN</td>\n",
       "    </tr>\n",
       "    <tr>\n",
       "      <th>March</th>\n",
       "      <td>NaN</td>\n",
       "      <td>NaN</td>\n",
       "      <td>NaN</td>\n",
       "      <td>NaN</td>\n",
       "      <td>NaN</td>\n",
       "    </tr>\n",
       "    <tr>\n",
       "      <th>April</th>\n",
       "      <td>NaN</td>\n",
       "      <td>NaN</td>\n",
       "      <td>NaN</td>\n",
       "      <td>NaN</td>\n",
       "      <td>NaN</td>\n",
       "    </tr>\n",
       "    <tr>\n",
       "      <th>May</th>\n",
       "      <td>NaN</td>\n",
       "      <td>NaN</td>\n",
       "      <td>NaN</td>\n",
       "      <td>NaN</td>\n",
       "      <td>NaN</td>\n",
       "    </tr>\n",
       "    <tr>\n",
       "      <th>June</th>\n",
       "      <td>NaN</td>\n",
       "      <td>NaN</td>\n",
       "      <td>NaN</td>\n",
       "      <td>NaN</td>\n",
       "      <td>NaN</td>\n",
       "    </tr>\n",
       "    <tr>\n",
       "      <th>July</th>\n",
       "      <td>8.4596</td>\n",
       "      <td>7.0000</td>\n",
       "      <td>109.9309</td>\n",
       "      <td>-0.3674</td>\n",
       "      <td>39.4701</td>\n",
       "    </tr>\n",
       "    <tr>\n",
       "      <th>August</th>\n",
       "      <td>8.5016</td>\n",
       "      <td>14.2785</td>\n",
       "      <td>119.4202</td>\n",
       "      <td>-0.3681</td>\n",
       "      <td>39.4690</td>\n",
       "    </tr>\n",
       "    <tr>\n",
       "      <th>September</th>\n",
       "      <td>8.4950</td>\n",
       "      <td>43.2423</td>\n",
       "      <td>132.0158</td>\n",
       "      <td>-0.3668</td>\n",
       "      <td>39.4686</td>\n",
       "    </tr>\n",
       "    <tr>\n",
       "      <th>October</th>\n",
       "      <td>8.4999</td>\n",
       "      <td>73.2540</td>\n",
       "      <td>117.5543</td>\n",
       "      <td>-0.3671</td>\n",
       "      <td>39.4688</td>\n",
       "    </tr>\n",
       "    <tr>\n",
       "      <th>November</th>\n",
       "      <td>8.4928</td>\n",
       "      <td>90.0000</td>\n",
       "      <td>93.5594</td>\n",
       "      <td>-0.3665</td>\n",
       "      <td>39.4689</td>\n",
       "    </tr>\n",
       "    <tr>\n",
       "      <th>December</th>\n",
       "      <td>NaN</td>\n",
       "      <td>NaN</td>\n",
       "      <td>NaN</td>\n",
       "      <td>NaN</td>\n",
       "      <td>NaN</td>\n",
       "    </tr>\n",
       "  </tbody>\n",
       "</table>\n",
       "</div>"
      ],
      "text/plain": [
       "            score  advance  netPrice  longitude  latitude\n",
       "month                                                    \n",
       "January       NaN      NaN       NaN        NaN       NaN\n",
       "February      NaN      NaN       NaN        NaN       NaN\n",
       "March         NaN      NaN       NaN        NaN       NaN\n",
       "April         NaN      NaN       NaN        NaN       NaN\n",
       "May           NaN      NaN       NaN        NaN       NaN\n",
       "June          NaN      NaN       NaN        NaN       NaN\n",
       "July       8.4596   7.0000  109.9309    -0.3674   39.4701\n",
       "August     8.5016  14.2785  119.4202    -0.3681   39.4690\n",
       "September  8.4950  43.2423  132.0158    -0.3668   39.4686\n",
       "October    8.4999  73.2540  117.5543    -0.3671   39.4688\n",
       "November   8.4928  90.0000   93.5594    -0.3665   39.4689\n",
       "December      NaN      NaN       NaN        NaN       NaN"
      ]
     },
     "execution_count": 331,
     "metadata": {},
     "output_type": "execute_result"
    }
   ],
   "source": [
    "month_mean"
   ]
  },
  {
   "cell_type": "code",
   "execution_count": 332,
   "metadata": {},
   "outputs": [
    {
     "data": {
      "image/png": "[encoded data removed]",
      "text/plain": [
       "<Figure size 842.4x595.44 with 1 Axes>"
      ]
     },
     "metadata": {
      "needs_background": "light"
     },
     "output_type": "display_data"
    }
   ],
   "source": [
    "fig = month_mean.netPrice.plot(kind=\"bar\", fig=(10,4));\n",
    "fig.set_title('Avg price for Month')\n",
    "plt.xlabel(\"Month\")\n",
    "plt.ylabel(\"Price\")\n",
    "plt.show(fig)"
   ]
  },
  {
   "cell_type": "code",
   "execution_count": 201,
   "metadata": {},
   "outputs": [],
   "source": [
    "#plt.figure(figsize=(16, 6))\n",
    "#fig, (ax1, ax2) = plt.subplots(nrows=1, ncols=2, figsize=(16, 6))\n",
    "#fig.suptitle('Average Price', fontsize=16)\n",
    "#ax2.set_title('Instances')\n",
    "#ax2 = month_mean.netPrice.plot(kind=\"bar\")\n",
    "#ax1 = month_mean.netPrice.plot(kind=\"bar\")\n",
    "#plt.show()"
   ]
  },
  {
   "cell_type": "markdown",
   "metadata": {},
   "source": [
    "### Stars"
   ]
  },
  {
   "cell_type": "code",
   "execution_count": 333,
   "metadata": {},
   "outputs": [],
   "source": [
    "stars_df = hotels_df[[\"name\",\"stars\"]]\n",
    "# Drop duplicates\n",
    "stars_df.drop_duplicates(keep='first', inplace=True)"
   ]
  },
  {
   "cell_type": "code",
   "execution_count": 334,
   "metadata": {},
   "outputs": [
    {
     "data": {
      "text/html": [
       "<div>\n",
       "<style scoped>\n",
       "    .dataframe tbody tr th:only-of-type {\n",
       "        vertical-align: middle;\n",
       "    }\n",
       "\n",
       "    .dataframe tbody tr th {\n",
       "        vertical-align: top;\n",
       "    }\n",
       "\n",
       "    .dataframe thead th {\n",
       "        text-align: right;\n",
       "    }\n",
       "</style>\n",
       "<table border=\"1\" class=\"dataframe\">\n",
       "  <thead>\n",
       "    <tr style=\"text-align: right;\">\n",
       "      <th></th>\n",
       "      <th>name</th>\n",
       "      <th>stars</th>\n",
       "    </tr>\n",
       "    <tr>\n",
       "      <th>propertyId</th>\n",
       "      <th></th>\n",
       "      <th></th>\n",
       "    </tr>\n",
       "  </thead>\n",
       "  <tbody>\n",
       "    <tr>\n",
       "      <th>12656</th>\n",
       "      <td>Sol Playa</td>\n",
       "      <td>2 star</td>\n",
       "    </tr>\n",
       "    <tr>\n",
       "      <th>13270</th>\n",
       "      <td>Melia Plaza Valencia</td>\n",
       "      <td>4 star</td>\n",
       "    </tr>\n",
       "    <tr>\n",
       "      <th>14441</th>\n",
       "      <td>Hotel Turia</td>\n",
       "      <td>4 star</td>\n",
       "    </tr>\n",
       "    <tr>\n",
       "      <th>14580</th>\n",
       "      <td>El Coso</td>\n",
       "      <td>3 star</td>\n",
       "    </tr>\n",
       "    <tr>\n",
       "      <th>23332</th>\n",
       "      <td>Hotel Miramar</td>\n",
       "      <td>2 star</td>\n",
       "    </tr>\n",
       "  </tbody>\n",
       "</table>\n",
       "</div>"
      ],
      "text/plain": [
       "                            name   stars\n",
       "propertyId                              \n",
       "12656                  Sol Playa  2 star\n",
       "13270       Melia Plaza Valencia  4 star\n",
       "14441                Hotel Turia  4 star\n",
       "14580                    El Coso  3 star\n",
       "23332              Hotel Miramar  2 star"
      ]
     },
     "execution_count": 334,
     "metadata": {},
     "output_type": "execute_result"
    }
   ],
   "source": [
    "stars_df.head()"
   ]
  },
  {
   "cell_type": "code",
   "execution_count": 335,
   "metadata": {},
   "outputs": [
    {
     "data": {
      "image/png": "[encoded data removed]",
      "text/plain": [
       "<Figure size 720x432 with 1 Axes>"
      ]
     },
     "metadata": {
      "needs_background": "light"
     },
     "output_type": "display_data"
    }
   ],
   "source": [
    "plt.figure(figsize=(10, 6))\n",
    "fig = sns.countplot(x=\"stars\", data=stars_df)\n",
    "fig.set_title('Hotels in Valencia: Stars', fontdict={'fontsize': mpl.rcParams['axes.titlesize'],\n",
    " 'fontweight': mpl.rcParams['axes.titleweight']})\n",
    "plt.xlabel(\"Stars\")\n",
    "plt.ylabel(\"Number of Hotels\");"
   ]
  },
  {
   "cell_type": "markdown",
   "metadata": {},
   "source": [
    "As we can see from the visualization 4 star hotels are the most commonly ones followed by 3 star."
   ]
  },
  {
   "cell_type": "code",
   "execution_count": 336,
   "metadata": {},
   "outputs": [],
   "source": [
    "hotels_NA_stars = hotels_df.query(\"stars=='-'\")\n",
    "hotels_1_star = hotels_df.query(\"stars=='1 star'\")\n",
    "hotels_2_star = hotels_df.query(\"stars=='2 star'\")\n",
    "hotels_3_star = hotels_df.query(\"stars=='3 star'\")\n",
    "hotels_4_star = hotels_df.query(\"stars=='4 star'\")\n",
    "hotels_5_star = hotels_df.query(\"stars=='5 star'\")"
   ]
  },
  {
   "cell_type": "code",
   "execution_count": 337,
   "metadata": {},
   "outputs": [
    {
     "data": {
      "text/html": [
       "<div>\n",
       "<style scoped>\n",
       "    .dataframe tbody tr th:only-of-type {\n",
       "        vertical-align: middle;\n",
       "    }\n",
       "\n",
       "    .dataframe tbody tr th {\n",
       "        vertical-align: top;\n",
       "    }\n",
       "\n",
       "    .dataframe thead th {\n",
       "        text-align: right;\n",
       "    }\n",
       "</style>\n",
       "<table border=\"1\" class=\"dataframe\">\n",
       "  <thead>\n",
       "    <tr style=\"text-align: right;\">\n",
       "      <th></th>\n",
       "      <th>name</th>\n",
       "      <th>checkIn</th>\n",
       "      <th>checkOut</th>\n",
       "      <th>stars</th>\n",
       "      <th>score</th>\n",
       "      <th>advance</th>\n",
       "      <th>netPrice</th>\n",
       "      <th>propertyType</th>\n",
       "      <th>longitude</th>\n",
       "      <th>latitude</th>\n",
       "      <th>district</th>\n",
       "      <th>weekday</th>\n",
       "      <th>month</th>\n",
       "    </tr>\n",
       "    <tr>\n",
       "      <th>propertyId</th>\n",
       "      <th></th>\n",
       "      <th></th>\n",
       "      <th></th>\n",
       "      <th></th>\n",
       "      <th></th>\n",
       "      <th></th>\n",
       "      <th></th>\n",
       "      <th></th>\n",
       "      <th></th>\n",
       "      <th></th>\n",
       "      <th></th>\n",
       "      <th></th>\n",
       "      <th></th>\n",
       "    </tr>\n",
       "  </thead>\n",
       "  <tbody>\n",
       "    <tr>\n",
       "      <th>12656</th>\n",
       "      <td>Sol Playa</td>\n",
       "      <td>2019-07-30</td>\n",
       "      <td>2019-07-31</td>\n",
       "      <td>2 star</td>\n",
       "      <td>8.3</td>\n",
       "      <td>7.0</td>\n",
       "      <td>85.0</td>\n",
       "      <td>Hotel</td>\n",
       "      <td>-0.3238</td>\n",
       "      <td>39.4651</td>\n",
       "      <td>Poblados marítimos</td>\n",
       "      <td>Tuesday</td>\n",
       "      <td>July</td>\n",
       "    </tr>\n",
       "    <tr>\n",
       "      <th>12656</th>\n",
       "      <td>Sol Playa</td>\n",
       "      <td>2019-07-31</td>\n",
       "      <td>2019-08-01</td>\n",
       "      <td>2 star</td>\n",
       "      <td>8.3</td>\n",
       "      <td>7.0</td>\n",
       "      <td>85.0</td>\n",
       "      <td>Hotel</td>\n",
       "      <td>-0.3238</td>\n",
       "      <td>39.4651</td>\n",
       "      <td>Poblados marítimos</td>\n",
       "      <td>Wednesday</td>\n",
       "      <td>July</td>\n",
       "    </tr>\n",
       "    <tr>\n",
       "      <th>12656</th>\n",
       "      <td>Sol Playa</td>\n",
       "      <td>2019-08-01</td>\n",
       "      <td>2019-08-02</td>\n",
       "      <td>2 star</td>\n",
       "      <td>8.3</td>\n",
       "      <td>7.0</td>\n",
       "      <td>103.0</td>\n",
       "      <td>Hotel</td>\n",
       "      <td>-0.3238</td>\n",
       "      <td>39.4651</td>\n",
       "      <td>Poblados marítimos</td>\n",
       "      <td>Thursday</td>\n",
       "      <td>August</td>\n",
       "    </tr>\n",
       "    <tr>\n",
       "      <th>12656</th>\n",
       "      <td>Sol Playa</td>\n",
       "      <td>2019-08-04</td>\n",
       "      <td>2019-08-05</td>\n",
       "      <td>2 star</td>\n",
       "      <td>8.3</td>\n",
       "      <td>7.0</td>\n",
       "      <td>94.0</td>\n",
       "      <td>Hotel</td>\n",
       "      <td>-0.3238</td>\n",
       "      <td>39.4651</td>\n",
       "      <td>Poblados marítimos</td>\n",
       "      <td>Sunday</td>\n",
       "      <td>August</td>\n",
       "    </tr>\n",
       "    <tr>\n",
       "      <th>12656</th>\n",
       "      <td>Sol Playa</td>\n",
       "      <td>2019-08-08</td>\n",
       "      <td>2019-08-09</td>\n",
       "      <td>2 star</td>\n",
       "      <td>8.3</td>\n",
       "      <td>14.0</td>\n",
       "      <td>160.0</td>\n",
       "      <td>Hotel</td>\n",
       "      <td>-0.3238</td>\n",
       "      <td>39.4651</td>\n",
       "      <td>Poblados marítimos</td>\n",
       "      <td>Thursday</td>\n",
       "      <td>August</td>\n",
       "    </tr>\n",
       "  </tbody>\n",
       "</table>\n",
       "</div>"
      ],
      "text/plain": [
       "                 name    checkIn   checkOut   stars  score  advance  netPrice  \\\n",
       "propertyId                                                                      \n",
       "12656       Sol Playa 2019-07-30 2019-07-31  2 star    8.3      7.0      85.0   \n",
       "12656       Sol Playa 2019-07-31 2019-08-01  2 star    8.3      7.0      85.0   \n",
       "12656       Sol Playa 2019-08-01 2019-08-02  2 star    8.3      7.0     103.0   \n",
       "12656       Sol Playa 2019-08-04 2019-08-05  2 star    8.3      7.0      94.0   \n",
       "12656       Sol Playa 2019-08-08 2019-08-09  2 star    8.3     14.0     160.0   \n",
       "\n",
       "           propertyType  longitude  latitude            district    weekday  \\\n",
       "propertyId                                                                    \n",
       "12656             Hotel    -0.3238   39.4651  Poblados marítimos    Tuesday   \n",
       "12656             Hotel    -0.3238   39.4651  Poblados marítimos  Wednesday   \n",
       "12656             Hotel    -0.3238   39.4651  Poblados marítimos   Thursday   \n",
       "12656             Hotel    -0.3238   39.4651  Poblados marítimos     Sunday   \n",
       "12656             Hotel    -0.3238   39.4651  Poblados marítimos   Thursday   \n",
       "\n",
       "             month  \n",
       "propertyId          \n",
       "12656         July  \n",
       "12656         July  \n",
       "12656       August  \n",
       "12656       August  \n",
       "12656       August  "
      ]
     },
     "execution_count": 337,
     "metadata": {},
     "output_type": "execute_result"
    }
   ],
   "source": [
    "hotels_2_star.head()"
   ]
  },
  {
   "cell_type": "code",
   "execution_count": 338,
   "metadata": {},
   "outputs": [
    {
     "data": {
      "text/html": [
       "<div>\n",
       "<style scoped>\n",
       "    .dataframe tbody tr th:only-of-type {\n",
       "        vertical-align: middle;\n",
       "    }\n",
       "\n",
       "    .dataframe tbody tr th {\n",
       "        vertical-align: top;\n",
       "    }\n",
       "\n",
       "    .dataframe thead tr th {\n",
       "        text-align: left;\n",
       "    }\n",
       "\n",
       "    .dataframe thead tr:last-of-type th {\n",
       "        text-align: right;\n",
       "    }\n",
       "</style>\n",
       "<table border=\"1\" class=\"dataframe\">\n",
       "  <thead>\n",
       "    <tr>\n",
       "      <th></th>\n",
       "      <th colspan=\"7\" halign=\"left\">score</th>\n",
       "      <th colspan=\"3\" halign=\"left\">advance</th>\n",
       "      <th>...</th>\n",
       "      <th colspan=\"3\" halign=\"left\">longitude</th>\n",
       "      <th colspan=\"7\" halign=\"left\">latitude</th>\n",
       "    </tr>\n",
       "    <tr>\n",
       "      <th>weekday</th>\n",
       "      <th>Friday</th>\n",
       "      <th>Monday</th>\n",
       "      <th>Saturday</th>\n",
       "      <th>Sunday</th>\n",
       "      <th>Thursday</th>\n",
       "      <th>Tuesday</th>\n",
       "      <th>Wednesday</th>\n",
       "      <th>Friday</th>\n",
       "      <th>Monday</th>\n",
       "      <th>Saturday</th>\n",
       "      <th>...</th>\n",
       "      <th>Thursday</th>\n",
       "      <th>Tuesday</th>\n",
       "      <th>Wednesday</th>\n",
       "      <th>Friday</th>\n",
       "      <th>Monday</th>\n",
       "      <th>Saturday</th>\n",
       "      <th>Sunday</th>\n",
       "      <th>Thursday</th>\n",
       "      <th>Tuesday</th>\n",
       "      <th>Wednesday</th>\n",
       "    </tr>\n",
       "    <tr>\n",
       "      <th>name</th>\n",
       "      <th></th>\n",
       "      <th></th>\n",
       "      <th></th>\n",
       "      <th></th>\n",
       "      <th></th>\n",
       "      <th></th>\n",
       "      <th></th>\n",
       "      <th></th>\n",
       "      <th></th>\n",
       "      <th></th>\n",
       "      <th></th>\n",
       "      <th></th>\n",
       "      <th></th>\n",
       "      <th></th>\n",
       "      <th></th>\n",
       "      <th></th>\n",
       "      <th></th>\n",
       "      <th></th>\n",
       "      <th></th>\n",
       "      <th></th>\n",
       "      <th></th>\n",
       "    </tr>\n",
       "  </thead>\n",
       "  <tbody>\n",
       "    <tr>\n",
       "      <th>Ad Hoc Carmen</th>\n",
       "      <td>8.9000</td>\n",
       "      <td>8.9000</td>\n",
       "      <td>8.9000</td>\n",
       "      <td>8.9000</td>\n",
       "      <td>8.9000</td>\n",
       "      <td>8.9000</td>\n",
       "      <td>8.9000</td>\n",
       "      <td>23.1667</td>\n",
       "      <td>46.3846</td>\n",
       "      <td>37.0000</td>\n",
       "      <td>...</td>\n",
       "      <td>-0.3762</td>\n",
       "      <td>-0.3762</td>\n",
       "      <td>-0.3762</td>\n",
       "      <td>39.4775</td>\n",
       "      <td>39.4775</td>\n",
       "      <td>39.4775</td>\n",
       "      <td>39.4775</td>\n",
       "      <td>39.4775</td>\n",
       "      <td>39.4775</td>\n",
       "      <td>39.4775</td>\n",
       "    </tr>\n",
       "    <tr>\n",
       "      <th>Casual De La Música Valencia</th>\n",
       "      <td>7.4385</td>\n",
       "      <td>7.4294</td>\n",
       "      <td>7.4357</td>\n",
       "      <td>7.4294</td>\n",
       "      <td>7.4267</td>\n",
       "      <td>7.4417</td>\n",
       "      <td>7.4313</td>\n",
       "      <td>44.7692</td>\n",
       "      <td>44.2941</td>\n",
       "      <td>42.0714</td>\n",
       "      <td>...</td>\n",
       "      <td>-0.3789</td>\n",
       "      <td>-0.3789</td>\n",
       "      <td>-0.3789</td>\n",
       "      <td>39.4700</td>\n",
       "      <td>39.4700</td>\n",
       "      <td>39.4700</td>\n",
       "      <td>39.4700</td>\n",
       "      <td>39.4700</td>\n",
       "      <td>39.4700</td>\n",
       "      <td>39.4700</td>\n",
       "    </tr>\n",
       "    <tr>\n",
       "      <th>Casual Del Cine Valencia</th>\n",
       "      <td>8.6000</td>\n",
       "      <td>8.6000</td>\n",
       "      <td>8.6000</td>\n",
       "      <td>8.6000</td>\n",
       "      <td>8.6000</td>\n",
       "      <td>8.6000</td>\n",
       "      <td>8.6000</td>\n",
       "      <td>39.5625</td>\n",
       "      <td>42.2222</td>\n",
       "      <td>38.2000</td>\n",
       "      <td>...</td>\n",
       "      <td>-0.3776</td>\n",
       "      <td>-0.3776</td>\n",
       "      <td>-0.3776</td>\n",
       "      <td>39.4691</td>\n",
       "      <td>39.4691</td>\n",
       "      <td>39.4691</td>\n",
       "      <td>39.4691</td>\n",
       "      <td>39.4691</td>\n",
       "      <td>39.4691</td>\n",
       "      <td>39.4691</td>\n",
       "    </tr>\n",
       "    <tr>\n",
       "      <th>Casual Vintage Valencia</th>\n",
       "      <td>8.5000</td>\n",
       "      <td>8.5000</td>\n",
       "      <td>8.5000</td>\n",
       "      <td>8.5000</td>\n",
       "      <td>8.5000</td>\n",
       "      <td>8.5000</td>\n",
       "      <td>8.5000</td>\n",
       "      <td>37.6875</td>\n",
       "      <td>42.2222</td>\n",
       "      <td>40.2000</td>\n",
       "      <td>...</td>\n",
       "      <td>-0.3766</td>\n",
       "      <td>-0.3766</td>\n",
       "      <td>-0.3766</td>\n",
       "      <td>39.4713</td>\n",
       "      <td>39.4713</td>\n",
       "      <td>39.4713</td>\n",
       "      <td>39.4713</td>\n",
       "      <td>39.4713</td>\n",
       "      <td>39.4713</td>\n",
       "      <td>39.4713</td>\n",
       "    </tr>\n",
       "    <tr>\n",
       "      <th>Hotel Miramar</th>\n",
       "      <td>NaN</td>\n",
       "      <td>8.4000</td>\n",
       "      <td>NaN</td>\n",
       "      <td>8.4000</td>\n",
       "      <td>8.4000</td>\n",
       "      <td>8.4000</td>\n",
       "      <td>8.4000</td>\n",
       "      <td>NaN</td>\n",
       "      <td>51.7857</td>\n",
       "      <td>NaN</td>\n",
       "      <td>...</td>\n",
       "      <td>-0.3237</td>\n",
       "      <td>-0.3237</td>\n",
       "      <td>-0.3237</td>\n",
       "      <td>NaN</td>\n",
       "      <td>39.4643</td>\n",
       "      <td>NaN</td>\n",
       "      <td>39.4643</td>\n",
       "      <td>39.4643</td>\n",
       "      <td>39.4643</td>\n",
       "      <td>39.4643</td>\n",
       "    </tr>\n",
       "    <tr>\n",
       "      <th>Md Design Hotel - Portal Del Real</th>\n",
       "      <td>9.1000</td>\n",
       "      <td>9.1000</td>\n",
       "      <td>9.1000</td>\n",
       "      <td>9.1000</td>\n",
       "      <td>9.1000</td>\n",
       "      <td>9.1000</td>\n",
       "      <td>9.1000</td>\n",
       "      <td>39.5625</td>\n",
       "      <td>42.2222</td>\n",
       "      <td>40.7647</td>\n",
       "      <td>...</td>\n",
       "      <td>-0.3723</td>\n",
       "      <td>-0.3723</td>\n",
       "      <td>-0.3723</td>\n",
       "      <td>39.4770</td>\n",
       "      <td>39.4770</td>\n",
       "      <td>39.4770</td>\n",
       "      <td>39.4770</td>\n",
       "      <td>39.4770</td>\n",
       "      <td>39.4770</td>\n",
       "      <td>39.4770</td>\n",
       "    </tr>\n",
       "    <tr>\n",
       "      <th>Sol Playa</th>\n",
       "      <td>8.3000</td>\n",
       "      <td>8.3000</td>\n",
       "      <td>8.3000</td>\n",
       "      <td>8.3000</td>\n",
       "      <td>8.3000</td>\n",
       "      <td>8.3000</td>\n",
       "      <td>8.3000</td>\n",
       "      <td>60.0000</td>\n",
       "      <td>50.1429</td>\n",
       "      <td>60.0000</td>\n",
       "      <td>...</td>\n",
       "      <td>-0.3238</td>\n",
       "      <td>-0.3238</td>\n",
       "      <td>-0.3238</td>\n",
       "      <td>39.4651</td>\n",
       "      <td>39.4651</td>\n",
       "      <td>39.4651</td>\n",
       "      <td>39.4651</td>\n",
       "      <td>39.4651</td>\n",
       "      <td>39.4651</td>\n",
       "      <td>39.4651</td>\n",
       "    </tr>\n",
       "    <tr>\n",
       "      <th>Sweet Hotel Continental</th>\n",
       "      <td>8.3000</td>\n",
       "      <td>8.3000</td>\n",
       "      <td>8.3000</td>\n",
       "      <td>8.3000</td>\n",
       "      <td>8.3000</td>\n",
       "      <td>8.3000</td>\n",
       "      <td>8.3000</td>\n",
       "      <td>38.2000</td>\n",
       "      <td>41.4375</td>\n",
       "      <td>39.7333</td>\n",
       "      <td>...</td>\n",
       "      <td>-0.3746</td>\n",
       "      <td>-0.3746</td>\n",
       "      <td>-0.3746</td>\n",
       "      <td>39.4698</td>\n",
       "      <td>39.4698</td>\n",
       "      <td>39.4698</td>\n",
       "      <td>39.4698</td>\n",
       "      <td>39.4698</td>\n",
       "      <td>39.4698</td>\n",
       "      <td>39.4698</td>\n",
       "    </tr>\n",
       "  </tbody>\n",
       "</table>\n",
       "<p>8 rows × 35 columns</p>\n",
       "</div>"
      ],
      "text/plain": [
       "                                    score                                    \\\n",
       "weekday                            Friday  Monday Saturday  Sunday Thursday   \n",
       "name                                                                          \n",
       "Ad Hoc Carmen                      8.9000  8.9000   8.9000  8.9000   8.9000   \n",
       "Casual De La Música Valencia       7.4385  7.4294   7.4357  7.4294   7.4267   \n",
       "Casual Del Cine Valencia           8.6000  8.6000   8.6000  8.6000   8.6000   \n",
       "Casual Vintage Valencia            8.5000  8.5000   8.5000  8.5000   8.5000   \n",
       "Hotel Miramar                         NaN  8.4000      NaN  8.4000   8.4000   \n",
       "Md Design Hotel - Portal Del Real  9.1000  9.1000   9.1000  9.1000   9.1000   \n",
       "Sol Playa                          8.3000  8.3000   8.3000  8.3000   8.3000   \n",
       "Sweet Hotel Continental            8.3000  8.3000   8.3000  8.3000   8.3000   \n",
       "\n",
       "                                                     advance           \\\n",
       "weekday                           Tuesday Wednesday   Friday   Monday   \n",
       "name                                                                    \n",
       "Ad Hoc Carmen                      8.9000    8.9000  23.1667  46.3846   \n",
       "Casual De La Música Valencia       7.4417    7.4313  44.7692  44.2941   \n",
       "Casual Del Cine Valencia           8.6000    8.6000  39.5625  42.2222   \n",
       "Casual Vintage Valencia            8.5000    8.5000  37.6875  42.2222   \n",
       "Hotel Miramar                      8.4000    8.4000      NaN  51.7857   \n",
       "Md Design Hotel - Portal Del Real  9.1000    9.1000  39.5625  42.2222   \n",
       "Sol Playa                          8.3000    8.3000  60.0000  50.1429   \n",
       "Sweet Hotel Continental            8.3000    8.3000  38.2000  41.4375   \n",
       "\n",
       "                                            ... longitude                    \\\n",
       "weekday                           Saturday  ...  Thursday Tuesday Wednesday   \n",
       "name                                        ...                               \n",
       "Ad Hoc Carmen                      37.0000  ...   -0.3762 -0.3762   -0.3762   \n",
       "Casual De La Música Valencia       42.0714  ...   -0.3789 -0.3789   -0.3789   \n",
       "Casual Del Cine Valencia           38.2000  ...   -0.3776 -0.3776   -0.3776   \n",
       "Casual Vintage Valencia            40.2000  ...   -0.3766 -0.3766   -0.3766   \n",
       "Hotel Miramar                          NaN  ...   -0.3237 -0.3237   -0.3237   \n",
       "Md Design Hotel - Portal Del Real  40.7647  ...   -0.3723 -0.3723   -0.3723   \n",
       "Sol Playa                          60.0000  ...   -0.3238 -0.3238   -0.3238   \n",
       "Sweet Hotel Continental            39.7333  ...   -0.3746 -0.3746   -0.3746   \n",
       "\n",
       "                                  latitude                             \\\n",
       "weekday                             Friday   Monday Saturday   Sunday   \n",
       "name                                                                    \n",
       "Ad Hoc Carmen                      39.4775  39.4775  39.4775  39.4775   \n",
       "Casual De La Música Valencia       39.4700  39.4700  39.4700  39.4700   \n",
       "Casual Del Cine Valencia           39.4691  39.4691  39.4691  39.4691   \n",
       "Casual Vintage Valencia            39.4713  39.4713  39.4713  39.4713   \n",
       "Hotel Miramar                          NaN  39.4643      NaN  39.4643   \n",
       "Md Design Hotel - Portal Del Real  39.4770  39.4770  39.4770  39.4770   \n",
       "Sol Playa                          39.4651  39.4651  39.4651  39.4651   \n",
       "Sweet Hotel Continental            39.4698  39.4698  39.4698  39.4698   \n",
       "\n",
       "                                                               \n",
       "weekday                           Thursday  Tuesday Wednesday  \n",
       "name                                                           \n",
       "Ad Hoc Carmen                      39.4775  39.4775   39.4775  \n",
       "Casual De La Música Valencia       39.4700  39.4700   39.4700  \n",
       "Casual Del Cine Valencia           39.4691  39.4691   39.4691  \n",
       "Casual Vintage Valencia            39.4713  39.4713   39.4713  \n",
       "Hotel Miramar                      39.4643  39.4643   39.4643  \n",
       "Md Design Hotel - Portal Del Real  39.4770  39.4770   39.4770  \n",
       "Sol Playa                          39.4651  39.4651   39.4651  \n",
       "Sweet Hotel Continental            39.4698  39.4698   39.4698  \n",
       "\n",
       "[8 rows x 35 columns]"
      ]
     },
     "execution_count": 338,
     "metadata": {},
     "output_type": "execute_result"
    }
   ],
   "source": [
    "by_day_month = (hotels_2_star\n",
    "            .groupby(['name', 'weekday'])\n",
    "            .mean()\n",
    "            .unstack()\n",
    "           )\n",
    "by_day_month"
   ]
  },
  {
   "cell_type": "code",
   "execution_count": 77,
   "metadata": {},
   "outputs": [
    {
     "data": {
      "image/png": "[encoded data removed]",
      "text/plain": [
       "<Figure size 720x432 with 1 Axes>"
      ]
     },
     "metadata": {
      "needs_background": "light"
     },
     "output_type": "display_data"
    }
   ],
   "source": [
    "#Plotting the mean and the 95% confidence interval around the mean\n",
    "g = sns.relplot(x=\"checkIn\", y=\"netPrice\", kind=\"line\", data=df_hotels_4)\n",
    "# ha: horizontal alignment\n",
    "g.fig.autofmt_xdate(rotation=40, ha='right')\n",
    "g.fig.set_size_inches(10, 6)\n",
    "g.set_axis_labels(\"Check-in Date\", \"Price\");\n",
    "g.ax.margins(x=0.1, y=0.05)"
   ]
  },
  {
   "cell_type": "code",
   "execution_count": 78,
   "metadata": {},
   "outputs": [
    {
     "data": {
      "image/png": "[encoded data removed]",
      "text/plain": [
       "<Figure size 720x432 with 1 Axes>"
      ]
     },
     "metadata": {
      "needs_background": "light"
     },
     "output_type": "display_data"
    }
   ],
   "source": [
    "#Plotting the mean and the 95% confidence interval around the mean\n",
    "g = sns.relplot(x=\"checkIn\", y=\"netPrice\", kind=\"line\", data=df_hotels_5)\n",
    "g.fig.autofmt_xdate(rotation=40, ha='right')\n",
    "g.fig.set_size_inches(10, 6)\n",
    "g.set_axis_labels(\"Check-in Date\", \"Price\");"
   ]
  },
  {
   "cell_type": "code",
   "execution_count": 79,
   "metadata": {},
   "outputs": [
    {
     "data": {
      "image/png": "[encoded data removed]",
      "text/plain": [
       "<Figure size 720x432 with 6 Axes>"
      ]
     },
     "metadata": {
      "needs_background": "light"
     },
     "output_type": "display_data"
    }
   ],
   "source": [
    "g = sns.relplot(x=\"checkIn\", y=\"netPrice\", row=\"stars\", kind=\"line\", data=df_hotels);\n",
    "g.fig.autofmt_xdate(rotation=40, ha='right')\n",
    "g.fig.set_size_inches(10, 6)"
   ]
  },
  {
   "cell_type": "code",
   "execution_count": 199,
   "metadata": {},
   "outputs": [
    {
     "data": {
      "image/png": "[encoded data removed]",
      "text/plain": [
       "<Figure size 842.4x595.44 with 1 Axes>"
      ]
     },
     "metadata": {
      "needs_background": "light"
     },
     "output_type": "display_data"
    }
   ],
   "source": [
    "fig = sns.countplot(y=\"district\", data=df_hotels, order = df_hotels['district'].value_counts().index)\n",
    "fig.set_title(label='Hotels in Valencia: Prices analysed by District', \\\n",
    "              fontdict={'fontsize': mpl.rcParams['axes.titlesize'], 'fontweight': mpl.rcParams['axes.titleweight']})\n",
    "plt.xlabel(\"Prices\")\n",
    "plt.ylabel(\"District\")\n",
    "plt.show(fig)"
   ]
  },
  {
   "cell_type": "code",
   "execution_count": 81,
   "metadata": {},
   "outputs": [],
   "source": [
    "district_mean = df_hotels.groupby(\"district\")"
   ]
  },
  {
   "cell_type": "code",
   "execution_count": 82,
   "metadata": {},
   "outputs": [
    {
     "data": {
      "text/plain": [
       "<pandas.core.groupby.generic.DataFrameGroupBy object at 0x00000228B98C2E48>"
      ]
     },
     "execution_count": 82,
     "metadata": {},
     "output_type": "execute_result"
    }
   ],
   "source": [
    "district_mean"
   ]
  },
  {
   "cell_type": "code",
   "execution_count": 200,
   "metadata": {},
   "outputs": [
    {
     "data": {
      "text/html": [
       "<div>\n",
       "<style scoped>\n",
       "    .dataframe tbody tr th:only-of-type {\n",
       "        vertical-align: middle;\n",
       "    }\n",
       "\n",
       "    .dataframe tbody tr th {\n",
       "        vertical-align: top;\n",
       "    }\n",
       "\n",
       "    .dataframe thead th {\n",
       "        text-align: right;\n",
       "    }\n",
       "</style>\n",
       "<table border=\"1\" class=\"dataframe\">\n",
       "  <thead>\n",
       "    <tr style=\"text-align: right;\">\n",
       "      <th></th>\n",
       "      <th>score</th>\n",
       "      <th>advance</th>\n",
       "      <th>netPrice</th>\n",
       "      <th>longitude</th>\n",
       "      <th>latitude</th>\n",
       "    </tr>\n",
       "    <tr>\n",
       "      <th>district</th>\n",
       "      <th></th>\n",
       "      <th></th>\n",
       "      <th></th>\n",
       "      <th></th>\n",
       "      <th></th>\n",
       "    </tr>\n",
       "  </thead>\n",
       "  <tbody>\n",
       "    <tr>\n",
       "      <th>Algirós</th>\n",
       "      <td>NaN</td>\n",
       "      <td>NaN</td>\n",
       "      <td>NaN</td>\n",
       "      <td>NaN</td>\n",
       "      <td>NaN</td>\n",
       "    </tr>\n",
       "    <tr>\n",
       "      <th>Benicalap</th>\n",
       "      <td>8.2108</td>\n",
       "      <td>40.3919</td>\n",
       "      <td>95.9440</td>\n",
       "      <td>-0.4066</td>\n",
       "      <td>39.4956</td>\n",
       "    </tr>\n",
       "    <tr>\n",
       "      <th>Benimaclet</th>\n",
       "      <td>8.4000</td>\n",
       "      <td>41.4020</td>\n",
       "      <td>70.4706</td>\n",
       "      <td>-0.3632</td>\n",
       "      <td>39.4852</td>\n",
       "    </tr>\n",
       "    <tr>\n",
       "      <th>Camins al Grau</th>\n",
       "      <td>8.4568</td>\n",
       "      <td>41.4023</td>\n",
       "      <td>104.5628</td>\n",
       "      <td>-0.3499</td>\n",
       "      <td>39.4615</td>\n",
       "    </tr>\n",
       "    <tr>\n",
       "      <th>Campanar</th>\n",
       "      <td>8.0609</td>\n",
       "      <td>39.9888</td>\n",
       "      <td>89.4263</td>\n",
       "      <td>-0.3902</td>\n",
       "      <td>39.4804</td>\n",
       "    </tr>\n",
       "    <tr>\n",
       "      <th>Ciutat Vella</th>\n",
       "      <td>8.7164</td>\n",
       "      <td>40.7178</td>\n",
       "      <td>133.3885</td>\n",
       "      <td>-0.3755</td>\n",
       "      <td>39.4727</td>\n",
       "    </tr>\n",
       "    <tr>\n",
       "      <th>Eixample</th>\n",
       "      <td>8.6236</td>\n",
       "      <td>40.5125</td>\n",
       "      <td>128.6310</td>\n",
       "      <td>-0.3703</td>\n",
       "      <td>39.4661</td>\n",
       "    </tr>\n",
       "    <tr>\n",
       "      <th>El Pla del Real</th>\n",
       "      <td>8.3962</td>\n",
       "      <td>40.3265</td>\n",
       "      <td>158.0196</td>\n",
       "      <td>-0.3589</td>\n",
       "      <td>39.4730</td>\n",
       "    </tr>\n",
       "    <tr>\n",
       "      <th>Extramurs</th>\n",
       "      <td>8.6940</td>\n",
       "      <td>40.3444</td>\n",
       "      <td>117.8489</td>\n",
       "      <td>-0.3820</td>\n",
       "      <td>39.4699</td>\n",
       "    </tr>\n",
       "    <tr>\n",
       "      <th>Jesús</th>\n",
       "      <td>NaN</td>\n",
       "      <td>NaN</td>\n",
       "      <td>NaN</td>\n",
       "      <td>NaN</td>\n",
       "      <td>NaN</td>\n",
       "    </tr>\n",
       "    <tr>\n",
       "      <th>La Saïdia</th>\n",
       "      <td>NaN</td>\n",
       "      <td>NaN</td>\n",
       "      <td>NaN</td>\n",
       "      <td>NaN</td>\n",
       "      <td>NaN</td>\n",
       "    </tr>\n",
       "    <tr>\n",
       "      <th>Olivereta</th>\n",
       "      <td>NaN</td>\n",
       "      <td>NaN</td>\n",
       "      <td>NaN</td>\n",
       "      <td>NaN</td>\n",
       "      <td>NaN</td>\n",
       "    </tr>\n",
       "    <tr>\n",
       "      <th>Patraix</th>\n",
       "      <td>NaN</td>\n",
       "      <td>NaN</td>\n",
       "      <td>NaN</td>\n",
       "      <td>NaN</td>\n",
       "      <td>NaN</td>\n",
       "    </tr>\n",
       "    <tr>\n",
       "      <th>Playa de la Malvarrosa</th>\n",
       "      <td>NaN</td>\n",
       "      <td>NaN</td>\n",
       "      <td>NaN</td>\n",
       "      <td>NaN</td>\n",
       "      <td>NaN</td>\n",
       "    </tr>\n",
       "    <tr>\n",
       "      <th>Poblados marítimos</th>\n",
       "      <td>8.4176</td>\n",
       "      <td>45.0370</td>\n",
       "      <td>148.0325</td>\n",
       "      <td>-0.3252</td>\n",
       "      <td>39.4640</td>\n",
       "    </tr>\n",
       "    <tr>\n",
       "      <th>Quatre Carreres</th>\n",
       "      <td>8.1301</td>\n",
       "      <td>40.1377</td>\n",
       "      <td>92.8623</td>\n",
       "      <td>-0.3628</td>\n",
       "      <td>39.4524</td>\n",
       "    </tr>\n",
       "    <tr>\n",
       "      <th>Rascanya</th>\n",
       "      <td>NaN</td>\n",
       "      <td>NaN</td>\n",
       "      <td>NaN</td>\n",
       "      <td>NaN</td>\n",
       "      <td>NaN</td>\n",
       "    </tr>\n",
       "    <tr>\n",
       "      <th>Valencia</th>\n",
       "      <td>NaN</td>\n",
       "      <td>NaN</td>\n",
       "      <td>NaN</td>\n",
       "      <td>NaN</td>\n",
       "      <td>NaN</td>\n",
       "    </tr>\n",
       "  </tbody>\n",
       "</table>\n",
       "</div>"
      ],
      "text/plain": [
       "                         score  advance  netPrice  longitude  latitude\n",
       "district                                                              \n",
       "Algirós                    NaN      NaN       NaN        NaN       NaN\n",
       "Benicalap               8.2108  40.3919   95.9440    -0.4066   39.4956\n",
       "Benimaclet              8.4000  41.4020   70.4706    -0.3632   39.4852\n",
       "Camins al Grau          8.4568  41.4023  104.5628    -0.3499   39.4615\n",
       "Campanar                8.0609  39.9888   89.4263    -0.3902   39.4804\n",
       "Ciutat Vella            8.7164  40.7178  133.3885    -0.3755   39.4727\n",
       "Eixample                8.6236  40.5125  128.6310    -0.3703   39.4661\n",
       "El Pla del Real         8.3962  40.3265  158.0196    -0.3589   39.4730\n",
       "Extramurs               8.6940  40.3444  117.8489    -0.3820   39.4699\n",
       "Jesús                      NaN      NaN       NaN        NaN       NaN\n",
       "La Saïdia                  NaN      NaN       NaN        NaN       NaN\n",
       "Olivereta                  NaN      NaN       NaN        NaN       NaN\n",
       "Patraix                    NaN      NaN       NaN        NaN       NaN\n",
       "Playa de la Malvarrosa     NaN      NaN       NaN        NaN       NaN\n",
       "Poblados marítimos      8.4176  45.0370  148.0325    -0.3252   39.4640\n",
       "Quatre Carreres         8.1301  40.1377   92.8623    -0.3628   39.4524\n",
       "Rascanya                   NaN      NaN       NaN        NaN       NaN\n",
       "Valencia                   NaN      NaN       NaN        NaN       NaN"
      ]
     },
     "execution_count": 200,
     "metadata": {},
     "output_type": "execute_result"
    }
   ],
   "source": [
    "# Mean price per district\n",
    "district_mean = df_hotels.groupby(\"district\").mean()\n",
    "# To be ordered by district\n",
    "district_mean = district_mean.loc[district_names]\n",
    "district_mean"
   ]
  },
  {
   "cell_type": "code",
   "execution_count": 84,
   "metadata": {},
   "outputs": [],
   "source": [
    "#fig = sns.countplot(y=\"district\", data=district_mean, order = district_mean['district'].value_counts().index)\n",
    "#fig.set_title(label='Hotels in Valencia: Prices analysed by District', fontdict={'fontsize': mpl.rcParams['axes.titlesize'],\n",
    "# 'fontweight': mpl.rcParams['axes.titleweight']})\n",
    "#plt.xlabel(\"Prices\")\n",
    "#plt.ylabel(\"District\")\n",
    "#plt.show(fig)"
   ]
  },
  {
   "cell_type": "markdown",
   "metadata": {},
   "source": [
    "According to the dataset, we have latitude and longitude on the dataset for each hotel. We are going to see the common location and how the hotels are placed."
   ]
  },
  {
   "cell_type": "code",
   "execution_count": 85,
   "metadata": {
    "scrolled": true
   },
   "outputs": [
    {
     "data": {
      "image/png": "[encoded data removed]",
      "text/plain": [
       "<Figure size 432x576 with 1 Axes>"
      ]
     },
     "metadata": {
      "needs_background": "light"
     },
     "output_type": "display_data"
    }
   ],
   "source": [
    "#df_hotels.groupby([\"a\", \"name\"]).median().index.get_level_values(1)\n",
    "plt.figure(figsize=(6,8))\n",
    "\n",
    "#fig = sns.scatterplot(x=\"longitude\", y=\"latitude\", hue=\"district\", style=\"district\", data=df_hotels);\n",
    "fig = sns.scatterplot(x=\"longitude\", y=\"latitude\", hue=\"district\", data=df_hotels);\n",
    "fig.set_title(label='Hotels in Valencia: Location', fontdict={'fontsize': mpl.rcParams['axes.titlesize'],\n",
    " 'fontweight': mpl.rcParams['axes.titleweight']})\n",
    "plt.xlabel(\"Latitude\")\n",
    "plt.ylabel(\"Longitude\")\n",
    "plt.show(fig)"
   ]
  },
  {
   "cell_type": "code",
   "execution_count": 86,
   "metadata": {},
   "outputs": [],
   "source": [
    "#plt.figure(figsize=(10,10))\n",
    "#ax = sns.countplot(x=\"district\", hue=\"stars\", data=df_hotels)"
   ]
  },
  {
   "cell_type": "code",
   "execution_count": 87,
   "metadata": {},
   "outputs": [
    {
     "data": {
      "image/png": "[encoded data removed]",
      "text/plain": [
       "<Figure size 842.4x595.44 with 1 Axes>"
      ]
     },
     "metadata": {
      "needs_background": "light"
     },
     "output_type": "display_data"
    }
   ],
   "source": [
    "ax = sns.scatterplot(x=\"stars\", y=\"netPrice\", data=df_hotels).set_title('Stars vs Price')"
   ]
  },
  {
   "cell_type": "code",
   "execution_count": 88,
   "metadata": {},
   "outputs": [
    {
     "data": {
      "text/plain": [
       "(Timestamp('2019-07-29 00:00:00'), Timestamp('2019-11-11 00:00:00'))"
      ]
     },
     "execution_count": 88,
     "metadata": {},
     "output_type": "execute_result"
    }
   ],
   "source": [
    "df_hotels['checkIn'].min(), df_hotels['checkIn'].max()"
   ]
  },
  {
   "cell_type": "code",
   "execution_count": 89,
   "metadata": {},
   "outputs": [
    {
     "data": {
      "text/plain": [
       "(1.152999997138977, 924.0)"
      ]
     },
     "execution_count": 89,
     "metadata": {},
     "output_type": "execute_result"
    }
   ],
   "source": [
    "df_hotels['netPrice'].min(), df_hotels['netPrice'].max()"
   ]
  },
  {
   "cell_type": "code",
   "execution_count": 90,
   "metadata": {},
   "outputs": [
    {
     "data": {
      "text/html": [
       "<div>\n",
       "<style scoped>\n",
       "    .dataframe tbody tr th:only-of-type {\n",
       "        vertical-align: middle;\n",
       "    }\n",
       "\n",
       "    .dataframe tbody tr th {\n",
       "        vertical-align: top;\n",
       "    }\n",
       "\n",
       "    .dataframe thead th {\n",
       "        text-align: right;\n",
       "    }\n",
       "</style>\n",
       "<table border=\"1\" class=\"dataframe\">\n",
       "  <thead>\n",
       "    <tr style=\"text-align: right;\">\n",
       "      <th></th>\n",
       "      <th>score</th>\n",
       "      <th>advance</th>\n",
       "      <th>netPrice</th>\n",
       "      <th>longitude</th>\n",
       "      <th>latitude</th>\n",
       "    </tr>\n",
       "    <tr>\n",
       "      <th>stars</th>\n",
       "      <th></th>\n",
       "      <th></th>\n",
       "      <th></th>\n",
       "      <th></th>\n",
       "      <th></th>\n",
       "    </tr>\n",
       "  </thead>\n",
       "  <tbody>\n",
       "    <tr>\n",
       "      <th>0.0</th>\n",
       "      <td>9.1363</td>\n",
       "      <td>42.8493</td>\n",
       "      <td>104.4726</td>\n",
       "      <td>-0.3666</td>\n",
       "      <td>39.4671</td>\n",
       "    </tr>\n",
       "    <tr>\n",
       "      <th>1.0</th>\n",
       "      <td>8.0559</td>\n",
       "      <td>41.6725</td>\n",
       "      <td>103.6550</td>\n",
       "      <td>-0.3556</td>\n",
       "      <td>39.4655</td>\n",
       "    </tr>\n",
       "    <tr>\n",
       "      <th>2.0</th>\n",
       "      <td>8.4508</td>\n",
       "      <td>42.1372</td>\n",
       "      <td>100.5489</td>\n",
       "      <td>-0.3662</td>\n",
       "      <td>39.4709</td>\n",
       "    </tr>\n",
       "    <tr>\n",
       "      <th>3.0</th>\n",
       "      <td>8.4337</td>\n",
       "      <td>41.6173</td>\n",
       "      <td>102.4271</td>\n",
       "      <td>-0.3683</td>\n",
       "      <td>39.4673</td>\n",
       "    </tr>\n",
       "    <tr>\n",
       "      <th>4.0</th>\n",
       "      <td>8.5078</td>\n",
       "      <td>40.1447</td>\n",
       "      <td>123.2529</td>\n",
       "      <td>-0.3691</td>\n",
       "      <td>39.4698</td>\n",
       "    </tr>\n",
       "    <tr>\n",
       "      <th>5.0</th>\n",
       "      <td>8.8360</td>\n",
       "      <td>40.8493</td>\n",
       "      <td>217.6096</td>\n",
       "      <td>-0.3578</td>\n",
       "      <td>39.4709</td>\n",
       "    </tr>\n",
       "  </tbody>\n",
       "</table>\n",
       "</div>"
      ],
      "text/plain": [
       "        score  advance  netPrice  longitude  latitude\n",
       "stars                                                \n",
       "0.0    9.1363  42.8493  104.4726    -0.3666   39.4671\n",
       "1.0    8.0559  41.6725  103.6550    -0.3556   39.4655\n",
       "2.0    8.4508  42.1372  100.5489    -0.3662   39.4709\n",
       "3.0    8.4337  41.6173  102.4271    -0.3683   39.4673\n",
       "4.0    8.5078  40.1447  123.2529    -0.3691   39.4698\n",
       "5.0    8.8360  40.8493  217.6096    -0.3578   39.4709"
      ]
     },
     "execution_count": 90,
     "metadata": {},
     "output_type": "execute_result"
    }
   ],
   "source": [
    "# Mean price per stars\n",
    "stars_mean = df_hotels.groupby(\"stars\").mean()\n",
    "stars_mean"
   ]
  },
  {
   "cell_type": "code",
   "execution_count": 91,
   "metadata": {},
   "outputs": [
    {
     "data": {
      "text/plain": [
       "checkIn\n",
       "November      94.7699\n",
       "July         109.9309\n",
       "October      119.1602\n",
       "August       119.8514\n",
       "September    130.9162\n",
       "Name: netPrice, dtype: float32"
      ]
     },
     "execution_count": 91,
     "metadata": {},
     "output_type": "execute_result"
    }
   ],
   "source": [
    "# Mean price per month\n",
    "df_hotels.groupby(df_hotels['checkIn'].dt.strftime('%B'))['netPrice'].mean().sort_values()"
   ]
  },
  {
   "cell_type": "code",
   "execution_count": 92,
   "metadata": {},
   "outputs": [
    {
     "data": {
      "text/html": [
       "<div>\n",
       "<style scoped>\n",
       "    .dataframe tbody tr th:only-of-type {\n",
       "        vertical-align: middle;\n",
       "    }\n",
       "\n",
       "    .dataframe tbody tr th {\n",
       "        vertical-align: top;\n",
       "    }\n",
       "\n",
       "    .dataframe thead th {\n",
       "        text-align: right;\n",
       "    }\n",
       "</style>\n",
       "<table border=\"1\" class=\"dataframe\">\n",
       "  <thead>\n",
       "    <tr style=\"text-align: right;\">\n",
       "      <th></th>\n",
       "      <th>name</th>\n",
       "      <th>checkIn</th>\n",
       "      <th>checkOut</th>\n",
       "      <th>stars</th>\n",
       "      <th>score</th>\n",
       "      <th>advance</th>\n",
       "      <th>netPrice</th>\n",
       "      <th>propertyType</th>\n",
       "      <th>longitude</th>\n",
       "      <th>latitude</th>\n",
       "      <th>district</th>\n",
       "      <th>weekday</th>\n",
       "      <th>month</th>\n",
       "    </tr>\n",
       "    <tr>\n",
       "      <th>propertyId</th>\n",
       "      <th></th>\n",
       "      <th></th>\n",
       "      <th></th>\n",
       "      <th></th>\n",
       "      <th></th>\n",
       "      <th></th>\n",
       "      <th></th>\n",
       "      <th></th>\n",
       "      <th></th>\n",
       "      <th></th>\n",
       "      <th></th>\n",
       "      <th></th>\n",
       "      <th></th>\n",
       "    </tr>\n",
       "  </thead>\n",
       "  <tbody>\n",
       "    <tr>\n",
       "      <th>12656</th>\n",
       "      <td>Sol Playa</td>\n",
       "      <td>2019-07-30</td>\n",
       "      <td>2019-07-31</td>\n",
       "      <td>2.0</td>\n",
       "      <td>8.3</td>\n",
       "      <td>7.0</td>\n",
       "      <td>85.0</td>\n",
       "      <td>Hotel</td>\n",
       "      <td>-0.3238</td>\n",
       "      <td>39.4651</td>\n",
       "      <td>Poblados marítimos</td>\n",
       "      <td>Tuesday</td>\n",
       "      <td>July</td>\n",
       "    </tr>\n",
       "    <tr>\n",
       "      <th>12656</th>\n",
       "      <td>Sol Playa</td>\n",
       "      <td>2019-07-31</td>\n",
       "      <td>2019-08-01</td>\n",
       "      <td>2.0</td>\n",
       "      <td>8.3</td>\n",
       "      <td>7.0</td>\n",
       "      <td>85.0</td>\n",
       "      <td>Hotel</td>\n",
       "      <td>-0.3238</td>\n",
       "      <td>39.4651</td>\n",
       "      <td>Poblados marítimos</td>\n",
       "      <td>Wednesday</td>\n",
       "      <td>July</td>\n",
       "    </tr>\n",
       "    <tr>\n",
       "      <th>12656</th>\n",
       "      <td>Sol Playa</td>\n",
       "      <td>2019-08-01</td>\n",
       "      <td>2019-08-02</td>\n",
       "      <td>2.0</td>\n",
       "      <td>8.3</td>\n",
       "      <td>7.0</td>\n",
       "      <td>103.0</td>\n",
       "      <td>Hotel</td>\n",
       "      <td>-0.3238</td>\n",
       "      <td>39.4651</td>\n",
       "      <td>Poblados marítimos</td>\n",
       "      <td>Thursday</td>\n",
       "      <td>August</td>\n",
       "    </tr>\n",
       "    <tr>\n",
       "      <th>12656</th>\n",
       "      <td>Sol Playa</td>\n",
       "      <td>2019-08-04</td>\n",
       "      <td>2019-08-05</td>\n",
       "      <td>2.0</td>\n",
       "      <td>8.3</td>\n",
       "      <td>7.0</td>\n",
       "      <td>94.0</td>\n",
       "      <td>Hotel</td>\n",
       "      <td>-0.3238</td>\n",
       "      <td>39.4651</td>\n",
       "      <td>Poblados marítimos</td>\n",
       "      <td>Sunday</td>\n",
       "      <td>August</td>\n",
       "    </tr>\n",
       "    <tr>\n",
       "      <th>12656</th>\n",
       "      <td>Sol Playa</td>\n",
       "      <td>2019-08-08</td>\n",
       "      <td>2019-08-09</td>\n",
       "      <td>2.0</td>\n",
       "      <td>8.3</td>\n",
       "      <td>14.0</td>\n",
       "      <td>160.0</td>\n",
       "      <td>Hotel</td>\n",
       "      <td>-0.3238</td>\n",
       "      <td>39.4651</td>\n",
       "      <td>Poblados marítimos</td>\n",
       "      <td>Thursday</td>\n",
       "      <td>August</td>\n",
       "    </tr>\n",
       "  </tbody>\n",
       "</table>\n",
       "</div>"
      ],
      "text/plain": [
       "                 name    checkIn   checkOut  stars  score  advance  netPrice  \\\n",
       "propertyId                                                                     \n",
       "12656       Sol Playa 2019-07-30 2019-07-31    2.0    8.3      7.0      85.0   \n",
       "12656       Sol Playa 2019-07-31 2019-08-01    2.0    8.3      7.0      85.0   \n",
       "12656       Sol Playa 2019-08-01 2019-08-02    2.0    8.3      7.0     103.0   \n",
       "12656       Sol Playa 2019-08-04 2019-08-05    2.0    8.3      7.0      94.0   \n",
       "12656       Sol Playa 2019-08-08 2019-08-09    2.0    8.3     14.0     160.0   \n",
       "\n",
       "           propertyType  longitude  latitude            district    weekday  \\\n",
       "propertyId                                                                    \n",
       "12656             Hotel    -0.3238   39.4651  Poblados marítimos    Tuesday   \n",
       "12656             Hotel    -0.3238   39.4651  Poblados marítimos  Wednesday   \n",
       "12656             Hotel    -0.3238   39.4651  Poblados marítimos   Thursday   \n",
       "12656             Hotel    -0.3238   39.4651  Poblados marítimos     Sunday   \n",
       "12656             Hotel    -0.3238   39.4651  Poblados marítimos   Thursday   \n",
       "\n",
       "             month  \n",
       "propertyId          \n",
       "12656         July  \n",
       "12656         July  \n",
       "12656       August  \n",
       "12656       August  \n",
       "12656       August  "
      ]
     },
     "execution_count": 92,
     "metadata": {},
     "output_type": "execute_result"
    }
   ],
   "source": [
    "df_hotels.head()"
   ]
  },
  {
   "cell_type": "code",
   "execution_count": 93,
   "metadata": {},
   "outputs": [
    {
     "data": {
      "image/png": "[encoded data removed]",
      "text/plain": [
       "<Figure size 1440x720 with 1 Axes>"
      ]
     },
     "metadata": {
      "needs_background": "light"
     },
     "output_type": "display_data"
    }
   ],
   "source": [
    "df_hotels[['netPrice']].plot(figsize=(20,10), linewidth=5, fontsize=20)\n",
    "plt.xlabel('month', fontsize=20);"
   ]
  },
  {
   "cell_type": "code",
   "execution_count": 94,
   "metadata": {},
   "outputs": [],
   "source": [
    "df_price = df_hotels.groupby('checkIn')['netPrice'].mean().reset_index()"
   ]
  },
  {
   "cell_type": "code",
   "execution_count": 95,
   "metadata": {},
   "outputs": [
    {
     "data": {
      "text/plain": [
       "DatetimeIndex(['2019-07-29', '2019-07-30', '2019-07-31', '2019-08-01',\n",
       "               '2019-08-02', '2019-08-03', '2019-08-04', '2019-08-05',\n",
       "               '2019-08-06', '2019-08-07', '2019-08-08', '2019-08-09',\n",
       "               '2019-08-10', '2019-08-11', '2019-08-12', '2019-08-13',\n",
       "               '2019-08-14', '2019-08-15', '2019-08-16', '2019-08-17',\n",
       "               '2019-08-18', '2019-08-19', '2019-08-20', '2019-08-21',\n",
       "               '2019-08-22', '2019-08-23', '2019-08-24', '2019-08-25',\n",
       "               '2019-08-26', '2019-08-27', '2019-08-28', '2019-08-29',\n",
       "               '2019-08-30', '2019-08-31', '2019-09-01', '2019-09-02',\n",
       "               '2019-09-03', '2019-09-04', '2019-09-05', '2019-09-06',\n",
       "               '2019-09-07', '2019-09-08', '2019-09-09', '2019-09-10',\n",
       "               '2019-09-11', '2019-09-12', '2019-09-20', '2019-09-21',\n",
       "               '2019-09-22', '2019-09-23', '2019-09-24', '2019-09-25',\n",
       "               '2019-09-26', '2019-09-27', '2019-09-28', '2019-09-29',\n",
       "               '2019-09-30', '2019-10-01', '2019-10-02', '2019-10-03',\n",
       "               '2019-10-04', '2019-10-05', '2019-10-06', '2019-10-07',\n",
       "               '2019-10-08', '2019-10-09', '2019-10-10', '2019-10-11',\n",
       "               '2019-10-12', '2019-10-20', '2019-10-21', '2019-10-22',\n",
       "               '2019-10-23', '2019-10-24', '2019-10-25', '2019-10-26',\n",
       "               '2019-10-27', '2019-10-28', '2019-10-29', '2019-10-30',\n",
       "               '2019-10-31', '2019-11-01', '2019-11-02', '2019-11-03',\n",
       "               '2019-11-04', '2019-11-05', '2019-11-06', '2019-11-07',\n",
       "               '2019-11-08', '2019-11-09', '2019-11-10', '2019-11-11'],\n",
       "              dtype='datetime64[ns]', name='checkIn', freq=None)"
      ]
     },
     "execution_count": 95,
     "metadata": {},
     "output_type": "execute_result"
    }
   ],
   "source": [
    "# Indexing with Time Series Data\n",
    "df_price = df_price.set_index('checkIn')\n",
    "df_price.index"
   ]
  },
  {
   "cell_type": "code",
   "execution_count": 96,
   "metadata": {},
   "outputs": [],
   "source": [
    "y = df_price['netPrice'].resample('MS').mean()"
   ]
  },
  {
   "cell_type": "code",
   "execution_count": 97,
   "metadata": {},
   "outputs": [
    {
     "data": {
      "text/plain": [
       "checkIn\n",
       "2019-07-01    108.4554\n",
       "2019-08-01    120.0574\n",
       "2019-09-01    133.8054\n",
       "2019-10-01    118.9088\n",
       "2019-11-01     95.5096\n",
       "Freq: MS, Name: netPrice, dtype: float32"
      ]
     },
     "execution_count": 97,
     "metadata": {},
     "output_type": "execute_result"
    }
   ],
   "source": [
    "y"
   ]
  },
  {
   "cell_type": "code",
   "execution_count": 98,
   "metadata": {},
   "outputs": [],
   "source": [
    "rng = pd.date_range('1/1/2019', periods=10, freq='MS')"
   ]
  },
  {
   "cell_type": "code",
   "execution_count": 99,
   "metadata": {},
   "outputs": [
    {
     "data": {
      "text/plain": [
       "DatetimeIndex(['2019-01-01', '2019-02-01', '2019-03-01', '2019-04-01',\n",
       "               '2019-05-01', '2019-06-01', '2019-07-01', '2019-08-01',\n",
       "               '2019-09-01', '2019-10-01'],\n",
       "              dtype='datetime64[ns]', freq='MS')"
      ]
     },
     "execution_count": 99,
     "metadata": {},
     "output_type": "execute_result"
    }
   ],
   "source": [
    "rng"
   ]
  },
  {
   "cell_type": "code",
   "execution_count": 100,
   "metadata": {},
   "outputs": [
    {
     "data": {
      "text/plain": [
       "pandas.core.indexes.datetimes.DatetimeIndex"
      ]
     },
     "execution_count": 100,
     "metadata": {},
     "output_type": "execute_result"
    }
   ],
   "source": [
    "type(rng)"
   ]
  },
  {
   "cell_type": "code",
   "execution_count": null,
   "metadata": {},
   "outputs": [],
   "source": []
  }
 ],
 "metadata": {
  "kernelspec": {
   "display_name": "Python 3",
   "language": "python",
   "name": "python3"
  },
  "language_info": {
   "codemirror_mode": {
    "name": "ipython",
    "version": 3
   },
   "file_extension": ".py",
   "mimetype": "text/x-python",
   "name": "python",
   "nbconvert_exporter": "python",
   "pygments_lexer": "ipython3",
   "version": "3.6.8"
  }
 },
 "nbformat": 4,
 "nbformat_minor": 2
}
